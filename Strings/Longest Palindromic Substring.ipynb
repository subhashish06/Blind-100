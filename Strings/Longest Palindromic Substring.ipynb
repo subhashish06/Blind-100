{
 "cells": [
  {
   "cell_type": "markdown",
   "id": "0457f7f1",
   "metadata": {},
   "source": [
    "# 3. Longest Palindromic Substring"
   ]
  },
  {
   "cell_type": "markdown",
   "id": "ce21ea70",
   "metadata": {},
   "source": [
    "Given a string s, return the longest palindromic substring in s.\n",
    "\n",
    "Example 1:\n",
    "\n",
    "- Input: s = \"babad\"\n",
    "- Output: \"bab\"\n",
    "- Explanation: \"aba\" is also a valid answer.\n",
    "\n",
    "\n",
    "Example 2:\n",
    "\n",
    "- Input: s = \"cbbd\"\n",
    "- Output: \"bb\"\n",
    " \n",
    "\n",
    "Constraints:\n",
    "\n",
    "- 1 <= s.length <= 1000\n",
    "- s consist of only digits and English letters."
   ]
  },
  {
   "cell_type": "markdown",
   "id": "98b79f86",
   "metadata": {},
   "source": [
    "Approach: We will traverse the strng and for each character, keep checking if it is the center of a palindrome by expanding both side while updating the results."
   ]
  },
  {
   "cell_type": "code",
   "execution_count": 2,
   "id": "870c0b34",
   "metadata": {},
   "outputs": [],
   "source": [
    "class Solution:\n",
    "    def longestPalindrome(self, s):\n",
    "        res = []\n",
    "        res_length = 0\n",
    "        \n",
    "        # Odd palindrome\n",
    "        for i in range(len(s)):\n",
    "            l, r = i, i\n",
    "            while (l >= 0 and r < len(s)) and (s[l] == s[r]):\n",
    "                if (r - l + 1) > res_length:\n",
    "                    res = s[l:r+1]\n",
    "                    res_length = (r - l + 1)\n",
    "                l -= 1\n",
    "                r += 1\n",
    "            \n",
    "        # Even palindrome\n",
    "        for i in range(len(s)):\n",
    "            l, r = i, i+1\n",
    "            while (l >= 0 and r < len(s)) and (s[l] == s[r]):\n",
    "                if (r - l + 1) > res_length:\n",
    "                    res = s[l:r+1]\n",
    "                    res_length = (r - l + 1)\n",
    "                l -= 1\n",
    "                r += 1   \n",
    "                \n",
    "        return res\n",
    "    \n",
    "solve = Solution()"
   ]
  },
  {
   "cell_type": "code",
   "execution_count": 3,
   "id": "903d400d",
   "metadata": {},
   "outputs": [
    {
     "data": {
      "text/plain": [
       "'bab'"
      ]
     },
     "execution_count": 3,
     "metadata": {},
     "output_type": "execute_result"
    }
   ],
   "source": [
    "s = \"babad\"\n",
    "\n",
    "solve.longestPalindrome(s)"
   ]
  },
  {
   "cell_type": "code",
   "execution_count": 4,
   "id": "7de5fcaf",
   "metadata": {},
   "outputs": [
    {
     "data": {
      "text/plain": [
       "'bb'"
      ]
     },
     "execution_count": 4,
     "metadata": {},
     "output_type": "execute_result"
    }
   ],
   "source": [
    "s = \"cbbd\"\n",
    "\n",
    "solve.longestPalindrome(s)"
   ]
  }
 ],
 "metadata": {
  "kernelspec": {
   "display_name": "Python 3 (ipykernel)",
   "language": "python",
   "name": "python3"
  },
  "language_info": {
   "codemirror_mode": {
    "name": "ipython",
    "version": 3
   },
   "file_extension": ".py",
   "mimetype": "text/x-python",
   "name": "python",
   "nbconvert_exporter": "python",
   "pygments_lexer": "ipython3",
   "version": "3.9.7"
  }
 },
 "nbformat": 4,
 "nbformat_minor": 5
}
