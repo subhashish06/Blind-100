{
 "cells": [
  {
   "cell_type": "markdown",
   "id": "def4cd10",
   "metadata": {},
   "source": [
    "# 4. Valid Parentheses"
   ]
  },
  {
   "cell_type": "markdown",
   "id": "b9436af8",
   "metadata": {},
   "source": [
    "Given a string s containing just the characters '(', ')', '{', '}', '[' and ']', determine if the input string is valid.\n",
    "\n",
    "An input string is valid if:\n",
    "\n",
    "Open brackets must be closed by the same type of brackets.\n",
    "Open brackets must be closed in the correct order.\n",
    "Every close bracket has a corresponding open bracket of the same type.\n",
    " \n",
    "\n",
    "Example 1:\n",
    "\n",
    "- Input: s = \"()\"\n",
    "- Output: true\n",
    "\n",
    "Example 2:\n",
    "\n",
    "- Input: s = \"()[]{}\"\n",
    "- Output: true\n",
    "\n",
    "Example 3:\n",
    "\n",
    "- Input: s = \"(]\"\n",
    "- Output: false\n",
    " \n",
    "\n",
    "Constraints:\n",
    "\n",
    "- 1 <= s.length <= 10^4\n",
    "- s consists of parentheses only '()[]{}'."
   ]
  },
  {
   "cell_type": "code",
   "execution_count": null,
   "id": "0a92528d",
   "metadata": {},
   "outputs": [],
   "source": [
    "Stack approach"
   ]
  },
  {
   "cell_type": "code",
   "execution_count": 2,
   "id": "7dbf4014",
   "metadata": {},
   "outputs": [],
   "source": [
    "class Solution:\n",
    "    def isValid(self, s):\n",
    "        stack = []\n",
    "        \n",
    "        for char in s:\n",
    "            if char in [\"(\", \"{\", \"[\"]:\n",
    "                stack.append(char)\n",
    "            else:\n",
    "                if not stack:\n",
    "                    return False\n",
    "                popped_char = stack.pop()\n",
    "                if (char == \")\") and (popped_char != \"(\"):\n",
    "                    return False\n",
    "                if (char == \"}\") and (popped_char != \"{\"):\n",
    "                    return False\n",
    "                if (char == \"]\") and (popped_char != \"[\"):\n",
    "                    return False\n",
    "        \n",
    "        return not bool(stack)\n",
    "\n",
    "solve = Solution()"
   ]
  },
  {
   "cell_type": "code",
   "execution_count": 3,
   "id": "d2242293",
   "metadata": {},
   "outputs": [
    {
     "data": {
      "text/plain": [
       "True"
      ]
     },
     "execution_count": 3,
     "metadata": {},
     "output_type": "execute_result"
    }
   ],
   "source": [
    "s = \"()\"\n",
    "\n",
    "solve.isValid(s)"
   ]
  },
  {
   "cell_type": "code",
   "execution_count": 4,
   "id": "1f95b3c1",
   "metadata": {},
   "outputs": [
    {
     "data": {
      "text/plain": [
       "True"
      ]
     },
     "execution_count": 4,
     "metadata": {},
     "output_type": "execute_result"
    }
   ],
   "source": [
    "s = \"()[]{}\"\n",
    "\n",
    "solve.isValid(s)"
   ]
  },
  {
   "cell_type": "code",
   "execution_count": 5,
   "id": "642ccbec",
   "metadata": {},
   "outputs": [
    {
     "data": {
      "text/plain": [
       "False"
      ]
     },
     "execution_count": 5,
     "metadata": {},
     "output_type": "execute_result"
    }
   ],
   "source": [
    "s = \"(]\"\n",
    "\n",
    "solve.isValid(s)"
   ]
  }
 ],
 "metadata": {
  "kernelspec": {
   "display_name": "Python 3 (ipykernel)",
   "language": "python",
   "name": "python3"
  },
  "language_info": {
   "codemirror_mode": {
    "name": "ipython",
    "version": 3
   },
   "file_extension": ".py",
   "mimetype": "text/x-python",
   "name": "python",
   "nbconvert_exporter": "python",
   "pygments_lexer": "ipython3",
   "version": "3.9.7"
  }
 },
 "nbformat": 4,
 "nbformat_minor": 5
}
