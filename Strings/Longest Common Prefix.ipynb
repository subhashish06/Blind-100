{
 "cells": [
  {
   "cell_type": "markdown",
   "id": "2256f982",
   "metadata": {},
   "source": [
    "# 6. Longest Common Prefix"
   ]
  },
  {
   "cell_type": "markdown",
   "id": "64244f1a",
   "metadata": {},
   "source": [
    "Write a function to find the longest common prefix string amongst an array of strings.\n",
    "\n",
    "If there is no common prefix, return an empty string \"\".\n",
    "\n",
    " \n",
    "\n",
    "Example 1:\n",
    "\n",
    "- Input: strs = [\"flower\",\"flow\",\"flight\"]\n",
    "- Output: \"fl\"\n",
    "\n",
    "Example 2:\n",
    "\n",
    "- Input: strs = [\"dog\",\"racecar\",\"car\"]\n",
    "- Output: \"\"\n",
    "\n",
    "Explanation: There is no common prefix among the input strings.\n",
    " \n",
    "\n",
    "Constraints:\n",
    "\n",
    "- 1 <= strs.length <= 200\n",
    "- 0 <= strs[i].length <= 200\n",
    "- strs[i] consists of only lowercase English letters."
   ]
  },
  {
   "cell_type": "code",
   "execution_count": 8,
   "id": "741d3579",
   "metadata": {},
   "outputs": [],
   "source": [
    "class Solution:\n",
    "    def longestCommonPrefix(self, strs):\n",
    "        res = \"\"\n",
    "        strs = sorted(strs)\n",
    "        \n",
    "        for i in range(len(strs[0])):\n",
    "            if strs[0][i] == strs[-1][i]:\n",
    "                res += strs[0][i]\n",
    "            else:\n",
    "                return res\n",
    "                \n",
    "        return res\n",
    "\n",
    "solve = Solution()"
   ]
  },
  {
   "cell_type": "code",
   "execution_count": 9,
   "id": "2a3516d5",
   "metadata": {},
   "outputs": [
    {
     "data": {
      "text/plain": [
       "''"
      ]
     },
     "execution_count": 9,
     "metadata": {},
     "output_type": "execute_result"
    }
   ],
   "source": [
    "strs = [\"dog\",\"racecar\",\"car\"]\n",
    "\n",
    "solve.longestCommonPrefix(strs)"
   ]
  },
  {
   "cell_type": "code",
   "execution_count": 10,
   "id": "633b70fe",
   "metadata": {},
   "outputs": [
    {
     "data": {
      "text/plain": [
       "'fl'"
      ]
     },
     "execution_count": 10,
     "metadata": {},
     "output_type": "execute_result"
    }
   ],
   "source": [
    "strs = [\"flower\",\"flow\",\"flight\"]\n",
    "\n",
    "solve.longestCommonPrefix(strs)"
   ]
  }
 ],
 "metadata": {
  "kernelspec": {
   "display_name": "Python 3 (ipykernel)",
   "language": "python",
   "name": "python3"
  },
  "language_info": {
   "codemirror_mode": {
    "name": "ipython",
    "version": 3
   },
   "file_extension": ".py",
   "mimetype": "text/x-python",
   "name": "python",
   "nbconvert_exporter": "python",
   "pygments_lexer": "ipython3",
   "version": "3.9.7"
  }
 },
 "nbformat": 4,
 "nbformat_minor": 5
}
