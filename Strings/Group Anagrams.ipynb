{
 "cells": [
  {
   "cell_type": "markdown",
   "id": "e1af8637",
   "metadata": {},
   "source": [
    "# 4. Group Anagrams"
   ]
  },
  {
   "cell_type": "markdown",
   "id": "d8831153",
   "metadata": {},
   "source": [
    "Given an array of strings strs, group the anagrams together. You can return the answer in any order.\n",
    "\n",
    "An Anagram is a word or phrase formed by rearranging the letters of a different word or phrase, typically using all the original letters exactly once.\n",
    "\n",
    " \n",
    "\n",
    "Example 1:\n",
    "\n",
    "- Input: strs = [\"eat\",\"tea\",\"tan\",\"ate\",\"nat\",\"bat\"]\n",
    "- Output: [[\"bat\"],[\"nat\",\"tan\"],[\"ate\",\"eat\",\"tea\"]]\n",
    "\n",
    "Example 2:\n",
    "\n",
    "- Input: strs = [\"\"]\n",
    "- Output: [[\"\"]]\n",
    "\n",
    "Example 3:\n",
    "\n",
    "- Input: strs = [\"a\"]\n",
    "- Output: [[\"a\"]]\n",
    " \n",
    "\n",
    "Constraints:\n",
    "\n",
    "1 <= strs.length <= 104\n",
    "0 <= strs[i].length <= 100\n",
    "strs[i] consists of lowercase English letters."
   ]
  },
  {
   "cell_type": "code",
   "execution_count": 85,
   "id": "51827dcf",
   "metadata": {},
   "outputs": [],
   "source": [
    "class Solution:\n",
    "    def groupAnagrams(self, strs):\n",
    "        map = {\"\".join(sorted(strs[0])): [strs[0]]} \n",
    "        \n",
    "        if len(strs) > 1:\n",
    "            for i in range(1, len(strs)):\n",
    "                running_key = \"\".join(sorted(strs[i])) \n",
    "                if running_key in map:\n",
    "                    map[running_key].append(strs[i])\n",
    "                else:\n",
    "                    map[running_key] = [strs[i]]\n",
    "            \n",
    "        return list(map.values())\n",
    "    \n",
    "solve = Solution()"
   ]
  },
  {
   "cell_type": "code",
   "execution_count": 86,
   "id": "4cb34a8a",
   "metadata": {},
   "outputs": [
    {
     "data": {
      "text/plain": [
       "[['eat', 'tea', 'ate'], ['tan', 'nat'], ['bat']]"
      ]
     },
     "execution_count": 86,
     "metadata": {},
     "output_type": "execute_result"
    }
   ],
   "source": [
    "strs = [\"eat\",\"tea\",\"tan\",\"ate\",\"nat\",\"bat\"]\n",
    "# strs = [\"\"]\n",
    "\n",
    "solve.groupAnagrams(strs)"
   ]
  }
 ],
 "metadata": {
  "kernelspec": {
   "display_name": "Python 3 (ipykernel)",
   "language": "python",
   "name": "python3"
  },
  "language_info": {
   "codemirror_mode": {
    "name": "ipython",
    "version": 3
   },
   "file_extension": ".py",
   "mimetype": "text/x-python",
   "name": "python",
   "nbconvert_exporter": "python",
   "pygments_lexer": "ipython3",
   "version": "3.9.7"
  }
 },
 "nbformat": 4,
 "nbformat_minor": 5
}
