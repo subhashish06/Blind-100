{
 "cells": [
  {
   "cell_type": "markdown",
   "id": "6e0548b9",
   "metadata": {},
   "source": [
    "# 2. Valid Anagram"
   ]
  },
  {
   "cell_type": "markdown",
   "id": "77f3d41e",
   "metadata": {},
   "source": [
    "Given two strings s and t, return true if t is an anagram of s, and false otherwise.\n",
    "\n",
    "An Anagram is a word or phrase formed by rearranging the letters of a different word or phrase, typically using all the original letters exactly once.\n",
    "\n",
    " \n",
    "\n",
    "Example 1:\n",
    "\n",
    "- Input: s = \"anagram\", t = \"nagaram\"\n",
    "- Output: true\n",
    "\n",
    "\n",
    "Example 2:\n",
    "\n",
    "- Input: s = \"rat\", t = \"car\"\n",
    "- Output: false\n",
    " \n",
    "\n",
    "Constraints:\n",
    "\n",
    "- 1 <= s.length, t.length <= 5 * 10^4\n",
    "- s and t consist of lowercase English letters.\n",
    " \n",
    "\n",
    "Follow up: What if the inputs contain Unicode characters? How would you adapt your solution to such a case?"
   ]
  },
  {
   "cell_type": "markdown",
   "id": "5051a930",
   "metadata": {},
   "source": [
    "First, Let's do it on my own with the best approach I know."
   ]
  },
  {
   "cell_type": "code",
   "execution_count": 2,
   "id": "43084d38",
   "metadata": {},
   "outputs": [],
   "source": [
    "from collections import Counter \n",
    "\n",
    "class Solution:\n",
    "    def isAnagram(self, s, t):\n",
    "        return Counter(s) == Counter(t)\n",
    "    \n",
    "solve = Solution()"
   ]
  },
  {
   "cell_type": "code",
   "execution_count": 4,
   "id": "c5d7c601",
   "metadata": {},
   "outputs": [
    {
     "data": {
      "text/plain": [
       "True"
      ]
     },
     "execution_count": 4,
     "metadata": {},
     "output_type": "execute_result"
    }
   ],
   "source": [
    "s = \"anagram\"\n",
    "t = \"nagaram\"\n",
    "\n",
    "solve.isAnagram(s, t)"
   ]
  },
  {
   "cell_type": "code",
   "execution_count": 5,
   "id": "afda822f",
   "metadata": {},
   "outputs": [
    {
     "data": {
      "text/plain": [
       "False"
      ]
     },
     "execution_count": 5,
     "metadata": {},
     "output_type": "execute_result"
    }
   ],
   "source": [
    "s = \"rat\"\n",
    "t = \"car\"\n",
    "\n",
    "solve.isAnagram(s, t)"
   ]
  },
  {
   "cell_type": "markdown",
   "id": "f415c8a9",
   "metadata": {},
   "source": [
    "The interviewer ight ask you to write the logic of the counter above."
   ]
  },
  {
   "cell_type": "code",
   "execution_count": 6,
   "id": "ef4d0b27",
   "metadata": {},
   "outputs": [],
   "source": [
    "class Solution:\n",
    "    def isAnagram(self, s, t):\n",
    "        if len(s) != len(t):\n",
    "            return False\n",
    "        map_s, map_t = {}, {}\n",
    "        for i in range(len(s)):\n",
    "            map_s[s[i]] = 1 + map_s.get(s[i], 0)\n",
    "            map_t[t[i]] = 1 + map_t.get(t[i], 0)\n",
    "        return map_s == map_t\n",
    "        \n",
    "solve_m = Solution()"
   ]
  },
  {
   "cell_type": "code",
   "execution_count": 7,
   "id": "ab70b16d",
   "metadata": {},
   "outputs": [
    {
     "data": {
      "text/plain": [
       "True"
      ]
     },
     "execution_count": 7,
     "metadata": {},
     "output_type": "execute_result"
    }
   ],
   "source": [
    "s = \"anagram\"\n",
    "t = \"nagaram\"\n",
    "\n",
    "solve_m.isAnagram(s, t)"
   ]
  },
  {
   "cell_type": "code",
   "execution_count": 8,
   "id": "43e18563",
   "metadata": {},
   "outputs": [
    {
     "data": {
      "text/plain": [
       "False"
      ]
     },
     "execution_count": 8,
     "metadata": {},
     "output_type": "execute_result"
    }
   ],
   "source": [
    "s = \"rat\"\n",
    "t = \"car\"\n",
    "\n",
    "solve_m.isAnagram(s, t)"
   ]
  }
 ],
 "metadata": {
  "kernelspec": {
   "display_name": "Python 3 (ipykernel)",
   "language": "python",
   "name": "python3"
  },
  "language_info": {
   "codemirror_mode": {
    "name": "ipython",
    "version": 3
   },
   "file_extension": ".py",
   "mimetype": "text/x-python",
   "name": "python",
   "nbconvert_exporter": "python",
   "pygments_lexer": "ipython3",
   "version": "3.9.7"
  }
 },
 "nbformat": 4,
 "nbformat_minor": 5
}
