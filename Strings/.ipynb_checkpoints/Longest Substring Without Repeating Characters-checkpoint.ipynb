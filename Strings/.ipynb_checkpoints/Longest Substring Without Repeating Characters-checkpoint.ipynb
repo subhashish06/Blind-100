{
 "cells": [
  {
   "cell_type": "markdown",
   "id": "956d06b9",
   "metadata": {},
   "source": [
    "# 8. Longest Substring Without Repeating Characters"
   ]
  },
  {
   "cell_type": "markdown",
   "id": "63013969",
   "metadata": {},
   "source": [
    "Given a string s, find the length of the longest substring without repeating characters.\n",
    "\n",
    "Example 1:\n",
    "\n",
    "- Input: s = \"abcabcbb\"\n",
    "- Output: 3\n",
    "- Explanation: The answer is \"abc\", with the length of 3.\n",
    "\n",
    "Example 2:\n",
    "\n",
    "- Input: s = \"bbbbb\"\n",
    "- Output: 1\n",
    "- Explanation: The answer is \"b\", with the length of 1.\n",
    "\n",
    "Example 3:\n",
    "\n",
    "- Input: s = \"pwwkew\"\n",
    "- Output: 3\n",
    "- Explanation: The answer is \"wke\", with the length of 3.\n",
    "- Notice that the answer must be a substring, \"pwke\" is a subsequence and not a substring.\n",
    " \n",
    "\n",
    "Constraints:\n",
    "\n",
    "- 0 <= s.length <= 5 * 10^4\n",
    "- s consists of English letters, digits, symbols and spaces."
   ]
  },
  {
   "cell_type": "code",
   "execution_count": null,
   "id": "844cc42f",
   "metadata": {},
   "outputs": [],
   "source": [
    "class Solution:\n",
    "    def lengthOfLongestSubstring(self, s):\n",
    "        res = \"\"\n",
    "        l, r = 0, 0\n",
    "        \n",
    "        while r < len(s):\n",
    "            if s[r] not in res:\n",
    "                res = s[l:r+1]\n",
    "                r += 1\n",
    "            elif s[r] in res:\n",
    "                l += 1 + res.index(s[r])\n",
    "                r += 1\n",
    "        \n",
    "        return len(res)\n",
    "                "
   ]
  }
 ],
 "metadata": {
  "kernelspec": {
   "display_name": "Python 3 (ipykernel)",
   "language": "python",
   "name": "python3"
  },
  "language_info": {
   "codemirror_mode": {
    "name": "ipython",
    "version": 3
   },
   "file_extension": ".py",
   "mimetype": "text/x-python",
   "name": "python",
   "nbconvert_exporter": "python",
   "pygments_lexer": "ipython3",
   "version": "3.9.7"
  }
 },
 "nbformat": 4,
 "nbformat_minor": 5
}
