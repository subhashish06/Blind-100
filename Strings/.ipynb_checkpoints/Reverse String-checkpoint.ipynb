{
 "cells": [
  {
   "cell_type": "markdown",
   "id": "e9f3f1d6",
   "metadata": {},
   "source": [
    "# 1. Reverse String"
   ]
  },
  {
   "cell_type": "markdown",
   "id": "bc54cb33",
   "metadata": {},
   "source": [
    "Write a function that reverses a string. The input string is given as an array of characters s.\n",
    "\n",
    "You must do this by modifying the input array in-place with O(1) extra memory.\n",
    "\n",
    " \n",
    "Example 1:\n",
    "\n",
    "- Input: s = [\"h\",\"e\",\"l\",\"l\",\"o\"]\n",
    "- Output: [\"o\",\"l\",\"l\",\"e\",\"h\"]\n",
    "\n",
    "\n",
    "Example 2:\n",
    "\n",
    "- Input: s = [\"H\",\"a\",\"n\",\"n\",\"a\",\"h\"]\n",
    "- Output: [\"h\",\"a\",\"n\",\"n\",\"a\",\"H\"]\n",
    " \n",
    "\n",
    "Constraints:\n",
    "\n",
    "- 1 <= s.length <= 10^5\n",
    "- s[i] is a printable ascii character."
   ]
  },
  {
   "cell_type": "markdown",
   "id": "2377b256",
   "metadata": {},
   "source": [
    "Let's try to the way I know first"
   ]
  },
  {
   "cell_type": "code",
   "execution_count": 2,
   "id": "fe601839",
   "metadata": {},
   "outputs": [],
   "source": [
    "class Solution:\n",
    "    def reverseString(self, s):\n",
    "        \"\"\"\n",
    "        Do not return anything, modify s in-place instead.\n",
    "        \"\"\"\n",
    "        s.reverse()\n",
    "        \n",
    "solve = Solution()"
   ]
  },
  {
   "cell_type": "code",
   "execution_count": 4,
   "id": "864fa06f",
   "metadata": {},
   "outputs": [
    {
     "data": {
      "text/plain": [
       "['o', 'l', 'l', 'e', 'h']"
      ]
     },
     "execution_count": 4,
     "metadata": {},
     "output_type": "execute_result"
    }
   ],
   "source": [
    "s = [\"h\",\"e\",\"l\",\"l\",\"o\"]\n",
    "\n",
    "solve.reverseString(s)\n",
    "s"
   ]
  },
  {
   "cell_type": "code",
   "execution_count": 5,
   "id": "bec8d74f",
   "metadata": {},
   "outputs": [
    {
     "data": {
      "text/plain": [
       "['h', 'a', 'n', 'n', 'a', 'H']"
      ]
     },
     "execution_count": 5,
     "metadata": {},
     "output_type": "execute_result"
    }
   ],
   "source": [
    "s = [\"H\",\"a\",\"n\",\"n\",\"a\",\"h\"]\n",
    "\n",
    "solve.reverseString(s)\n",
    "s"
   ]
  },
  {
   "cell_type": "markdown",
   "id": "c7f47fdf",
   "metadata": {},
   "source": [
    "So now, you might be asked not to use list methods.. let's find other ways."
   ]
  },
  {
   "cell_type": "markdown",
   "id": "618aa1a7",
   "metadata": {},
   "source": [
    "- Do with Iterations"
   ]
  },
  {
   "cell_type": "code",
   "execution_count": 6,
   "id": "6fe50bd4",
   "metadata": {},
   "outputs": [],
   "source": [
    "class Solution:\n",
    "    def reverseString(self, s):\n",
    "        \"\"\"\n",
    "        Do not return anything, modify s in-place instead.\n",
    "        \"\"\"\n",
    "        l, r = 0, len(s) - 1\n",
    "        \n",
    "        while l < r:\n",
    "            s[l], s[r] = s[r], s[l]\n",
    "            l, r = l + 1, r - 1\n",
    "            \n",
    "solve_i = Solution()"
   ]
  },
  {
   "cell_type": "code",
   "execution_count": 7,
   "id": "df559a3e",
   "metadata": {},
   "outputs": [
    {
     "data": {
      "text/plain": [
       "['o', 'l', 'l', 'e', 'h']"
      ]
     },
     "execution_count": 7,
     "metadata": {},
     "output_type": "execute_result"
    }
   ],
   "source": [
    "s = [\"h\",\"e\",\"l\",\"l\",\"o\"]\n",
    "\n",
    "solve_i.reverseString(s)\n",
    "s"
   ]
  },
  {
   "cell_type": "code",
   "execution_count": 8,
   "id": "b3db0f15",
   "metadata": {},
   "outputs": [
    {
     "data": {
      "text/plain": [
       "['h', 'a', 'n', 'n', 'a', 'H']"
      ]
     },
     "execution_count": 8,
     "metadata": {},
     "output_type": "execute_result"
    }
   ],
   "source": [
    "s = [\"H\",\"a\",\"n\",\"n\",\"a\",\"h\"]\n",
    "\n",
    "solve_i.reverseString(s)\n",
    "s"
   ]
  },
  {
   "cell_type": "markdown",
   "id": "d42a3ebc",
   "metadata": {},
   "source": [
    "- Do with Stacks"
   ]
  },
  {
   "cell_type": "code",
   "execution_count": 26,
   "id": "102f095d",
   "metadata": {},
   "outputs": [],
   "source": [
    "class Solution:\n",
    "    def reverseString(self, s):\n",
    "        \"\"\"\n",
    "        Do not return anything, modify s in-place instead.\n",
    "        \"\"\"\n",
    "        stack = []\n",
    "        for letter in s:\n",
    "            stack.append(letter)\n",
    "\n",
    "        i = 0\n",
    "        while stack:\n",
    "            s[i] = stack.pop()\n",
    "            i += 1\n",
    "                   \n",
    "solve_s = Solution()"
   ]
  },
  {
   "cell_type": "code",
   "execution_count": 25,
   "id": "b8de26dd",
   "metadata": {},
   "outputs": [
    {
     "name": "stdout",
     "output_type": "stream",
     "text": [
      "['h', 'e', 'l', 'l', 'o']\n"
     ]
    },
    {
     "data": {
      "text/plain": [
       "['o', 'l', 'l', 'e', 'h']"
      ]
     },
     "execution_count": 25,
     "metadata": {},
     "output_type": "execute_result"
    }
   ],
   "source": [
    "s = [\"h\",\"e\",\"l\",\"l\",\"o\"]\n",
    "\n",
    "solve_s.reverseString(s)\n",
    "s"
   ]
  },
  {
   "cell_type": "code",
   "execution_count": 14,
   "id": "0a29b8af",
   "metadata": {},
   "outputs": [
    {
     "data": {
      "text/plain": [
       "['H', 'a', 'n', 'n', 'a', 'h']"
      ]
     },
     "execution_count": 14,
     "metadata": {},
     "output_type": "execute_result"
    }
   ],
   "source": [
    "s = [\"H\",\"a\",\"n\",\"n\",\"a\",\"h\"]\n",
    "\n",
    "solve_s.reverseString(s)\n",
    "s"
   ]
  }
 ],
 "metadata": {
  "kernelspec": {
   "display_name": "Python 3 (ipykernel)",
   "language": "python",
   "name": "python3"
  },
  "language_info": {
   "codemirror_mode": {
    "name": "ipython",
    "version": 3
   },
   "file_extension": ".py",
   "mimetype": "text/x-python",
   "name": "python",
   "nbconvert_exporter": "python",
   "pygments_lexer": "ipython3",
   "version": "3.9.7"
  }
 },
 "nbformat": 4,
 "nbformat_minor": 5
}
