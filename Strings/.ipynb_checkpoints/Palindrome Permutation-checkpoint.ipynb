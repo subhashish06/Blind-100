{
 "cells": [
  {
   "cell_type": "markdown",
   "id": "23a39bab",
   "metadata": {},
   "source": [
    "# 7. Palindrome Permutation"
   ]
  },
  {
   "cell_type": "markdown",
   "id": "71785003",
   "metadata": {},
   "source": [
    "Given a string s, return true if a permutation of the string could form a palindrome and false otherwise.\n",
    "\n",
    " \n",
    "\n",
    "Example 1:\n",
    "\n",
    "- Input: s = \"code\"\n",
    "- Output: false\n",
    "\n",
    "Example 2:\n",
    "\n",
    "- Input: s = \"aab\"\n",
    "- Output: true\n",
    "\n",
    "Example 3:\n",
    "\n",
    "- Input: s = \"carerac\"\n",
    "- Output: true\n",
    " \n",
    "\n",
    "Constraints:\n",
    "\n",
    "- 1 <= s.length <= 5000\n",
    "- s consists of only lowercase English letters."
   ]
  },
  {
   "cell_type": "code",
   "execution_count": 1,
   "id": "67219427",
   "metadata": {},
   "outputs": [],
   "source": [
    "class Solution:\n",
    "    def isPalindromePermutation(self, s):\n",
    "        memo = {}\n",
    "        \n",
    "        for char in s:\n",
    "            memo[char] = (1 + memo.get(char, 0)) % 2\n",
    "            \n",
    "        return list(memo.values())\n",
    "\n",
    "solve = Solution()"
   ]
  },
  {
   "cell_type": "code",
   "execution_count": 2,
   "id": "7c347d1f",
   "metadata": {},
   "outputs": [
    {
     "data": {
      "text/plain": [
       "[1, 1, 1, 1]"
      ]
     },
     "execution_count": 2,
     "metadata": {},
     "output_type": "execute_result"
    }
   ],
   "source": [
    "s = \"code\"\n",
    "\n",
    "solve.isPalindromePermutation(s)"
   ]
  },
  {
   "cell_type": "code",
   "execution_count": 3,
   "id": "c3a20d09",
   "metadata": {},
   "outputs": [
    {
     "data": {
      "text/plain": [
       "[0, 1]"
      ]
     },
     "execution_count": 3,
     "metadata": {},
     "output_type": "execute_result"
    }
   ],
   "source": [
    "s = \"aab\"\n",
    "\n",
    "solve.isPalindromePermutation(s)"
   ]
  },
  {
   "cell_type": "code",
   "execution_count": 4,
   "id": "ffb64df6",
   "metadata": {},
   "outputs": [
    {
     "data": {
      "text/plain": [
       "[0, 0, 0, 1]"
      ]
     },
     "execution_count": 4,
     "metadata": {},
     "output_type": "execute_result"
    }
   ],
   "source": [
    "s = \"carerac\"\n",
    "\n",
    "solve.isPalindromePermutation(s)"
   ]
  }
 ],
 "metadata": {
  "kernelspec": {
   "display_name": "Python 3 (ipykernel)",
   "language": "python",
   "name": "python3"
  },
  "language_info": {
   "codemirror_mode": {
    "name": "ipython",
    "version": 3
   },
   "file_extension": ".py",
   "mimetype": "text/x-python",
   "name": "python",
   "nbconvert_exporter": "python",
   "pygments_lexer": "ipython3",
   "version": "3.9.7"
  }
 },
 "nbformat": 4,
 "nbformat_minor": 5
}
