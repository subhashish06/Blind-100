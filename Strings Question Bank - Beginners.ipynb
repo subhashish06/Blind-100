{
 "cells": [
  {
   "cell_type": "markdown",
   "id": "23feb13f",
   "metadata": {},
   "source": [
    "Q1. Python program to remove given character from String."
   ]
  },
  {
   "cell_type": "code",
   "execution_count": 6,
   "id": "d7ad536e",
   "metadata": {},
   "outputs": [],
   "source": [
    "string = \"Hi! I! Love! Python!\""
   ]
  },
  {
   "cell_type": "code",
   "execution_count": 7,
   "id": "9be716cc",
   "metadata": {},
   "outputs": [
    {
     "data": {
      "text/plain": [
       "'Hi I Love Python'"
      ]
     },
     "execution_count": 7,
     "metadata": {},
     "output_type": "execute_result"
    }
   ],
   "source": [
    "string.replace(\"!\", \"\")"
   ]
  },
  {
   "cell_type": "code",
   "execution_count": 8,
   "id": "7b3aff81",
   "metadata": {},
   "outputs": [],
   "source": [
    "def remove_char(char, string):\n",
    "    res = \"\"\n",
    "    for ch in string:\n",
    "        if ch != char:\n",
    "            res += ch\n",
    "    return res"
   ]
  },
  {
   "cell_type": "code",
   "execution_count": 9,
   "id": "7564afb4",
   "metadata": {},
   "outputs": [
    {
     "data": {
      "text/plain": [
       "'Hi I Love Python'"
      ]
     },
     "execution_count": 9,
     "metadata": {},
     "output_type": "execute_result"
    }
   ],
   "source": [
    "remove_char(\"!\", string)"
   ]
  },
  {
   "cell_type": "markdown",
   "id": "7490aa8d",
   "metadata": {},
   "source": [
    "Q2. Python Program to count occurrence of a given characters in string."
   ]
  },
  {
   "cell_type": "code",
   "execution_count": 10,
   "id": "9d8bd022",
   "metadata": {},
   "outputs": [
    {
     "data": {
      "text/plain": [
       "4"
      ]
     },
     "execution_count": 10,
     "metadata": {},
     "output_type": "execute_result"
    }
   ],
   "source": [
    "string.count(\"!\")"
   ]
  },
  {
   "cell_type": "code",
   "execution_count": 13,
   "id": "2ff7292d",
   "metadata": {},
   "outputs": [],
   "source": [
    "def count_char(char, string):\n",
    "    res = 0\n",
    "    for ch in string:\n",
    "        if ch == char:\n",
    "            res += 1\n",
    "    return res"
   ]
  },
  {
   "cell_type": "code",
   "execution_count": 14,
   "id": "ac4faffa",
   "metadata": {},
   "outputs": [
    {
     "data": {
      "text/plain": [
       "4"
      ]
     },
     "execution_count": 14,
     "metadata": {},
     "output_type": "execute_result"
    }
   ],
   "source": [
    "count_char(\"!\", string)"
   ]
  },
  {
   "cell_type": "markdown",
   "id": "7cbe05d2",
   "metadata": {},
   "source": [
    "Q3. Python Program to check if two Strings are Anagram."
   ]
  },
  {
   "cell_type": "markdown",
   "id": "f166a70b",
   "metadata": {},
   "source": [
    "Q4. Python program to check a String is palindrome or not."
   ]
  },
  {
   "cell_type": "code",
   "execution_count": 15,
   "id": "091004ec",
   "metadata": {},
   "outputs": [],
   "source": [
    "def palindrome(s):\n",
    "    l = 0\n",
    "    r = len(s) - 1\n",
    "    while l <= r:\n",
    "        if s[l] != s[r]:\n",
    "            return False\n",
    "        l += 1\n",
    "        r -= 1\n",
    "    return True"
   ]
  },
  {
   "cell_type": "code",
   "execution_count": 20,
   "id": "c97d7bcd",
   "metadata": {},
   "outputs": [
    {
     "data": {
      "text/plain": [
       "True"
      ]
     },
     "execution_count": 20,
     "metadata": {},
     "output_type": "execute_result"
    }
   ],
   "source": [
    "palindrome(\"abcdedcba\")"
   ]
  },
  {
   "cell_type": "markdown",
   "id": "1a0cdfa3",
   "metadata": {},
   "source": [
    "Q5. Python program to check given character is vowel or consonant."
   ]
  },
  {
   "cell_type": "code",
   "execution_count": 1,
   "id": "64e5dd69",
   "metadata": {},
   "outputs": [],
   "source": [
    "def vowel_or_consonant(char):\n",
    "    if not char.isalpha():\n",
    "        print(\"Please provide Letters only\")\n",
    "    elif char.lower() in \"aeiou\":\n",
    "        print(\"Vowel\")\n",
    "    else:\n",
    "        print(\"Consonant\")"
   ]
  },
  {
   "cell_type": "code",
   "execution_count": 6,
   "id": "4ab8aea0",
   "metadata": {},
   "outputs": [
    {
     "name": "stdout",
     "output_type": "stream",
     "text": [
      "Please provide Letters only\n"
     ]
    }
   ],
   "source": [
    "vowel_or_consonant(\"1\")"
   ]
  },
  {
   "cell_type": "markdown",
   "id": "e2b6f3b3",
   "metadata": {},
   "source": [
    "Q6. Python program to check given character is digit or not."
   ]
  },
  {
   "cell_type": "markdown",
   "id": "d710db9c",
   "metadata": {},
   "source": [
    "Q7. Python program to replace the string space with a given character."
   ]
  },
  {
   "cell_type": "markdown",
   "id": "08e7a94b",
   "metadata": {},
   "source": [
    "Q8. Python program to convert lowercase char to uppercase of string."
   ]
  },
  {
   "cell_type": "markdown",
   "id": "b2f36fd8",
   "metadata": {},
   "source": [
    "Q9. Python program to delete vowels in a given string."
   ]
  },
  {
   "cell_type": "markdown",
   "id": "8a57b511",
   "metadata": {},
   "source": [
    "Q10. Python program to count the Occurrence Of Vowels & Consonants in a String."
   ]
  },
  {
   "cell_type": "markdown",
   "id": "59d11526",
   "metadata": {},
   "source": [
    "Q11. Python program to print the highest frequency character in a String."
   ]
  },
  {
   "cell_type": "code",
   "execution_count": 21,
   "id": "db4e1eeb",
   "metadata": {},
   "outputs": [],
   "source": [
    "def highest_freq(s):\n",
    "    freq_map = {}\n",
    "    for ch in s:\n",
    "        freq_map[ch] = 1 + freq_map.get(ch, 0)\n",
    "    sorted_map = sorted(freq_map.items(), key= lambda x: x[1], reverse=True)\n",
    "    print((sorted_map[0][0]))"
   ]
  },
  {
   "cell_type": "code",
   "execution_count": 23,
   "id": "512d3b12",
   "metadata": {},
   "outputs": [
    {
     "name": "stdout",
     "output_type": "stream",
     "text": [
      "h\n"
     ]
    }
   ],
   "source": [
    "highest_freq(\"subhashishh\")"
   ]
  },
  {
   "cell_type": "markdown",
   "id": "a3119c34",
   "metadata": {},
   "source": [
    "Q12. Python program to remove blank space from string."
   ]
  },
  {
   "cell_type": "markdown",
   "id": "be99dc6a",
   "metadata": {},
   "source": [
    "Q13. Python program to remove repeated character from string."
   ]
  },
  {
   "cell_type": "markdown",
   "id": "fe9e1914",
   "metadata": {},
   "source": [
    "Q14. Python program to print all non repeating character in string."
   ]
  },
  {
   "cell_type": "markdown",
   "id": "5dde617c",
   "metadata": {},
   "source": [
    "Q15. Python Program to sort characters of string in ascending order."
   ]
  },
  {
   "cell_type": "code",
   "execution_count": 2,
   "id": "1c7bd2f0",
   "metadata": {},
   "outputs": [],
   "source": [
    "# def sort_ascending(s):\n",
    "#     left = s[:len(s)//2]\n",
    "#     right = s[len(s)//2:]\n",
    "    \n",
    "#     # Recursion part\n",
    "#     sort_ascending(left)\n",
    "#     sort_ascending(right)\n",
    "    \n",
    "#     # Merge\n",
    "#     i, j, k = 0, 0, 0\n",
    "#     while i < len(left) and j < len(right):\n",
    "#         if left[i] < right[j]:\n",
    "#             s[k] = left[i]\n",
    "#             i += 1\n",
    "#         else:\n",
    "#             s[k] = right[j]\n",
    "#             j += 1\n",
    "#         k += 1\n",
    "            \n",
    "#     while i < len(left):\n",
    "#         s[k] = left[i]\n",
    "#         i += 1\n",
    "#         k += 1\n",
    "    \n",
    "#     while j < len(right):\n",
    "#         s[k] = right[j]\n",
    "#         j += 1\n",
    "#         k += 1        "
   ]
  },
  {
   "cell_type": "code",
   "execution_count": 16,
   "id": "3a3e8d09",
   "metadata": {},
   "outputs": [],
   "source": [
    "def sort_ascending(s):\n",
    "    s_list = list(s)\n",
    "    for i in range(len(s_list) - 1):\n",
    "        for j in range(i+1, len(s_list)):\n",
    "            if s_list[i] > s_list[j]:\n",
    "                s_list[i], s_list[j] = s_list[j], s_list[i]\n",
    "\n",
    "    return \"\".join(s_list)    "
   ]
  },
  {
   "cell_type": "code",
   "execution_count": 13,
   "id": "cda4f6e1",
   "metadata": {},
   "outputs": [
    {
     "data": {
      "text/plain": [
       "'abhhhisssu'"
      ]
     },
     "execution_count": 13,
     "metadata": {},
     "output_type": "execute_result"
    }
   ],
   "source": [
    "s1 = \"subhashish\"\n",
    "sort_ascending(s1)"
   ]
  },
  {
   "cell_type": "markdown",
   "id": "565a9055",
   "metadata": {},
   "source": [
    "Q16. Python Program to sort character of string in descending order."
   ]
  },
  {
   "cell_type": "code",
   "execution_count": 17,
   "id": "50960f7b",
   "metadata": {},
   "outputs": [],
   "source": [
    "def sort_descending(s):\n",
    "    s_list = list(s)\n",
    "    for i in range(len(s_list) - 1):\n",
    "        for j in range(i+1, len(s_list)):\n",
    "            if s_list[i] < s_list[j]:\n",
    "                s_list[i], s_list[j] = s_list[j], s_list[i]\n",
    "\n",
    "    return \"\".join(s_list)  "
   ]
  },
  {
   "cell_type": "code",
   "execution_count": 15,
   "id": "36c7b890",
   "metadata": {},
   "outputs": [
    {
     "data": {
      "text/plain": [
       "'usssihhhba'"
      ]
     },
     "execution_count": 15,
     "metadata": {},
     "output_type": "execute_result"
    }
   ],
   "source": [
    "sort_descending(\"subhashish\")"
   ]
  }
 ],
 "metadata": {
  "kernelspec": {
   "display_name": "Python 3 (ipykernel)",
   "language": "python",
   "name": "python3"
  },
  "language_info": {
   "codemirror_mode": {
    "name": "ipython",
    "version": 3
   },
   "file_extension": ".py",
   "mimetype": "text/x-python",
   "name": "python",
   "nbconvert_exporter": "python",
   "pygments_lexer": "ipython3",
   "version": "3.9.7"
  }
 },
 "nbformat": 4,
 "nbformat_minor": 5
}
