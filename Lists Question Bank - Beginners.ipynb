{
 "cells": [
  {
   "cell_type": "markdown",
   "id": "79bc9c57",
   "metadata": {},
   "source": [
    "Q1. Write a program in Python for, In array 1-100 numbers are stored, one number is missing how do you find it."
   ]
  },
  {
   "cell_type": "markdown",
   "id": "db7df5fe",
   "metadata": {},
   "source": [
    "Q2. Write a program in Python for, In a array 1-100 multiple numbers are duplicates, how do you find it."
   ]
  },
  {
   "cell_type": "markdown",
   "id": "84336d36",
   "metadata": {},
   "source": [
    "Q3. Write a program in Python for, How to find all pairs in array of integers whose sum is equal to given number."
   ]
  },
  {
   "cell_type": "code",
   "execution_count": 1,
   "id": "1d8ca39f",
   "metadata": {},
   "outputs": [],
   "source": [
    "def find_pairs(arr, target_sum):\n",
    "    pairs = []\n",
    "    for i in range(len(arr)):\n",
    "        for j in range(i+1, len(arr)):\n",
    "            if arr[i] + arr[j] == target_sum:\n",
    "                pairs.append((arr[i], arr[j]))\n",
    "    return pairs"
   ]
  },
  {
   "cell_type": "code",
   "execution_count": 6,
   "id": "b4d628c7",
   "metadata": {},
   "outputs": [
    {
     "name": "stdout",
     "output_type": "stream",
     "text": [
      "All pairs Whose sum is equal to  12  is: \n",
      " [(2, 10), (3, 9), (4, 8), (5, 7)]\n"
     ]
    }
   ],
   "source": [
    "arr = [1, 2, 3, 4, 5, 6, 7, 8, 9, 10]\n",
    "target_sum = 12\n",
    "result = find_pairs(arr, target_sum)\n",
    "print(\"All pairs Whose sum is equal to \",target_sum,\" is: \\n\",result)"
   ]
  },
  {
   "cell_type": "code",
   "execution_count": 7,
   "id": "af334e71",
   "metadata": {},
   "outputs": [],
   "source": [
    "def find_pairs_map(arr, target_sum):\n",
    "    memo = {}\n",
    "    pairs = []\n",
    "    for num in arr:\n",
    "        if (target_sum - num) in memo:\n",
    "            pairs.append((target_sum - num, num))\n",
    "        else:\n",
    "            memo[num] = target_sum - num\n",
    "    return pairs"
   ]
  },
  {
   "cell_type": "code",
   "execution_count": 8,
   "id": "1e182016",
   "metadata": {},
   "outputs": [
    {
     "name": "stdout",
     "output_type": "stream",
     "text": [
      "All pairs Whose sum is equal to  12  is: \n",
      " [(5, 7), (4, 8), (3, 9), (2, 10)]\n"
     ]
    }
   ],
   "source": [
    "arr = [1, 2, 3, 4, 5, 6, 7, 8, 9, 10]\n",
    "target_sum = 12\n",
    "result = find_pairs_map(arr, target_sum)\n",
    "print(\"All pairs Whose sum is equal to \",target_sum,\" is: \\n\",result)"
   ]
  },
  {
   "cell_type": "markdown",
   "id": "922b0416",
   "metadata": {},
   "source": [
    "Q4. Write a program in Python for, How to compare two array is equal in size or not."
   ]
  },
  {
   "cell_type": "markdown",
   "id": "72734669",
   "metadata": {},
   "source": [
    "Q5. Write a program in Python to find largest and smallest number in array."
   ]
  },
  {
   "cell_type": "markdown",
   "id": "b8a6d42e",
   "metadata": {},
   "source": [
    "Q6. Write a program in Python to find second highest number in an integer array."
   ]
  },
  {
   "cell_type": "markdown",
   "id": "81cb94ce",
   "metadata": {},
   "source": [
    "Q7. Write a program in Python to find top two maximum number in array?"
   ]
  },
  {
   "cell_type": "markdown",
   "id": "e16ecf23",
   "metadata": {},
   "source": [
    "Q8. Write a program in Python to remove duplicate elements form array."
   ]
  },
  {
   "cell_type": "markdown",
   "id": "c1eb4907",
   "metadata": {},
   "source": [
    "Q9. Python program to find top two maximum number in array."
   ]
  },
  {
   "cell_type": "markdown",
   "id": "8f9f6520",
   "metadata": {},
   "source": [
    "Q10. Python program to print array in reverse Order."
   ]
  },
  {
   "cell_type": "markdown",
   "id": "c9fa4717",
   "metadata": {},
   "source": [
    "Q11. Python program to perform left rotation of array elements by two positions."
   ]
  },
  {
   "cell_type": "code",
   "execution_count": 9,
   "id": "4160e0eb",
   "metadata": {},
   "outputs": [],
   "source": [
    "def left_rotate(arr, n):\n",
    "    res = arr[:]\n",
    "    for i in range(len(arr)):\n",
    "        res[(i - n + len(arr) % len(arr))] = arr[i]\n",
    "    return res"
   ]
  },
  {
   "cell_type": "code",
   "execution_count": 12,
   "id": "a4d461a3",
   "metadata": {},
   "outputs": [
    {
     "name": "stdout",
     "output_type": "stream",
     "text": [
      "[4, 5, 6, 7, 8, 9, 10, 1, 2, 3]\n"
     ]
    }
   ],
   "source": [
    "arr = [1, 2, 3, 4, 5, 6, 7, 8, 9, 10]\n",
    "n = 3\n",
    "result = left_rotate(arr, n)\n",
    "print(result)"
   ]
  },
  {
   "cell_type": "markdown",
   "id": "57d74741",
   "metadata": {},
   "source": [
    "Q12. Python program to perform right rotation in array by 2 positions."
   ]
  },
  {
   "cell_type": "code",
   "execution_count": 15,
   "id": "4dbc4866",
   "metadata": {},
   "outputs": [],
   "source": [
    "def right_rotate(arr, n):\n",
    "    res = arr[:]\n",
    "    for i in range(len(arr)):\n",
    "        res[(i + n) % len(arr)] = arr[i]\n",
    "    return res"
   ]
  },
  {
   "cell_type": "code",
   "execution_count": 16,
   "id": "df73afbb",
   "metadata": {},
   "outputs": [
    {
     "name": "stdout",
     "output_type": "stream",
     "text": [
      "[8, 9, 10, 1, 2, 3, 4, 5, 6, 7]\n"
     ]
    }
   ],
   "source": [
    "arr = [1, 2, 3, 4, 5, 6, 7, 8, 9, 10]\n",
    "n = 3\n",
    "result = right_rotate(arr, n)\n",
    "print(result)"
   ]
  }
 ],
 "metadata": {
  "kernelspec": {
   "display_name": "Python 3 (ipykernel)",
   "language": "python",
   "name": "python3"
  },
  "language_info": {
   "codemirror_mode": {
    "name": "ipython",
    "version": 3
   },
   "file_extension": ".py",
   "mimetype": "text/x-python",
   "name": "python",
   "nbconvert_exporter": "python",
   "pygments_lexer": "ipython3",
   "version": "3.9.7"
  }
 },
 "nbformat": 4,
 "nbformat_minor": 5
}
