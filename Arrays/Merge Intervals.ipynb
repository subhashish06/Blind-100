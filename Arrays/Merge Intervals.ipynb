{
 "cells": [
  {
   "cell_type": "markdown",
   "id": "22523af7",
   "metadata": {},
   "source": [
    "# 6. Merge Intervals"
   ]
  },
  {
   "cell_type": "markdown",
   "id": "ae5ff336",
   "metadata": {},
   "source": [
    "Given an array of intervals where intervals[i] = [starti, endi], merge all overlapping intervals, and return an array of the non-overlapping intervals that cover all the intervals in the input.\n",
    "\n",
    "\n",
    "Example 1:\n",
    "\n",
    "- Input: intervals = [[1,3],[2,6],[8,10],[15,18]]\n",
    "- Output: [[1,6],[8,10],[15,18]]\n",
    "- Explanation: Since intervals [1,3] and [2,6] overlap, merge them into [1,6].\n",
    "\n",
    "Example 2:\n",
    "\n",
    "- Input: intervals = [[1,4],[4,5]]\n",
    "- Output: [[1,5]]\n",
    "- Explanation: Intervals [1,4] and [4,5] are considered overlapping.\n",
    " \n",
    "\n",
    "Constraints:\n",
    "\n",
    " - 1 <= intervals.length <= 10^4\n",
    " - intervals[i].length == 2\n",
    " - 0 <= starti <= endi <= 10^4"
   ]
  },
  {
   "cell_type": "code",
   "execution_count": 12,
   "id": "810c9efd",
   "metadata": {},
   "outputs": [],
   "source": [
    "class Solution:\n",
    "    def merge(self, intervals):\n",
    "        # if the list is not sorted, do it.\n",
    "        intervals.sort(key = lambda i : i[0])\n",
    "        output = [intervals[0]]\n",
    "        \n",
    "        for start, end in intervals:\n",
    "            last_end = output[-1][1]\n",
    "            \n",
    "            if start <= last_end:\n",
    "                last_end = max(last_end, end)\n",
    "                output[-1][1] = last_end\n",
    "            else:\n",
    "                output.append([start, end])\n",
    "                \n",
    "        return output\n",
    "    \n",
    "solve = Solution()"
   ]
  },
  {
   "cell_type": "code",
   "execution_count": 8,
   "id": "31f78c19",
   "metadata": {},
   "outputs": [
    {
     "data": {
      "text/plain": [
       "[[1, 6], [8, 10], [15, 18]]"
      ]
     },
     "execution_count": 8,
     "metadata": {},
     "output_type": "execute_result"
    }
   ],
   "source": [
    "intervals = [[1,3],[2,6],[8,10],[15,18]]\n",
    "\n",
    "solve.merge(intervals)"
   ]
  },
  {
   "cell_type": "code",
   "execution_count": 9,
   "id": "a9a1c79c",
   "metadata": {},
   "outputs": [
    {
     "data": {
      "text/plain": [
       "[[1, 5]]"
      ]
     },
     "execution_count": 9,
     "metadata": {},
     "output_type": "execute_result"
    }
   ],
   "source": [
    "intervals = [[1,4],[4,5]]\n",
    "\n",
    "solve.merge(intervals)"
   ]
  },
  {
   "cell_type": "code",
   "execution_count": 13,
   "id": "0bace5ab",
   "metadata": {},
   "outputs": [
    {
     "data": {
      "text/plain": [
       "[[1, 3], [4, 7]]"
      ]
     },
     "execution_count": 13,
     "metadata": {},
     "output_type": "execute_result"
    }
   ],
   "source": [
    "intervals = [[2,3],[2,2],[3,3],[1,3],[5,7],[2,2],[4,6]]\n",
    "\n",
    "solve.merge(intervals)"
   ]
  }
 ],
 "metadata": {
  "kernelspec": {
   "display_name": "Python 3 (ipykernel)",
   "language": "python",
   "name": "python3"
  },
  "language_info": {
   "codemirror_mode": {
    "name": "ipython",
    "version": 3
   },
   "file_extension": ".py",
   "mimetype": "text/x-python",
   "name": "python",
   "nbconvert_exporter": "python",
   "pygments_lexer": "ipython3",
   "version": "3.9.7"
  }
 },
 "nbformat": 4,
 "nbformat_minor": 5
}
