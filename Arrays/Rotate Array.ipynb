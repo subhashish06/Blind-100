{
 "cells": [
  {
   "cell_type": "markdown",
   "id": "f5c58752",
   "metadata": {},
   "source": [
    "# 7. Rotate Array"
   ]
  },
  {
   "cell_type": "markdown",
   "id": "8fe132c9",
   "metadata": {},
   "source": [
    "Given an integer array nums, rotate the array to the right by k steps, where k is non-negative.\n",
    "\n",
    "\n",
    "Example 1:\n",
    "\n",
    "- Input: nums = [1,2,3,4,5,6,7], k = 3\n",
    "- Output: [5,6,7,1,2,3,4]\n",
    "- Explanation:\n",
    "rotate 1 steps to the right: [7,1,2,3,4,5,6]\n",
    "rotate 2 steps to the right: [6,7,1,2,3,4,5]\n",
    "rotate 3 steps to the right: [5,6,7,1,2,3,4]\n",
    "\n",
    "Example 2:\n",
    "\n",
    "- Input: nums = [-1,-100,3,99], k = 2\n",
    "- Output: [3,99,-1,-100]\n",
    "- Explanation: \n",
    "rotate 1 steps to the right: [99,-1,-100,3]\n",
    "rotate 2 steps to the right: [3,99,-1,-100]\n",
    " \n",
    "\n",
    "Constraints:\n",
    "\n",
    "- 1 <= nums.length <= 10^5\n",
    "- -2^31 <= nums[i] <= 2^31 - 1\n",
    "- 0 <= k <= 10^5\n",
    " \n",
    "\n",
    "Follow up:\n",
    "\n",
    "Try to come up with as many solutions as you can. There are at least three different ways to solve this problem.\n",
    "Could you do it in-place with O(1) extra space?"
   ]
  },
  {
   "cell_type": "code",
   "execution_count": 18,
   "id": "4ad49321",
   "metadata": {},
   "outputs": [],
   "source": [
    "class Solution:\n",
    "    def rotate(self, nums, k):\n",
    "        \"\"\"\n",
    "        Do not return anything, modify nums in-place instead.\n",
    "        \"\"\"\n",
    "        n = len(nums)\n",
    "        output = [0 for i in range(n)]\n",
    "        \n",
    "        for i in range(n):\n",
    "            output[(i+k)%n] = nums[i]\n",
    "        \n",
    "        nums = output.copy()\n",
    "        print(nums)\n",
    "        \n",
    "solve = Solution()"
   ]
  },
  {
   "cell_type": "code",
   "execution_count": 19,
   "id": "8566fb71",
   "metadata": {},
   "outputs": [
    {
     "name": "stdout",
     "output_type": "stream",
     "text": [
      "[5, 6, 7, 1, 2, 3, 4]\n"
     ]
    },
    {
     "data": {
      "text/plain": [
       "[1, 2, 3, 4, 5, 6, 7]"
      ]
     },
     "execution_count": 19,
     "metadata": {},
     "output_type": "execute_result"
    }
   ],
   "source": [
    "nums = [1,2,3,4,5,6,7]\n",
    "k = 3\n",
    "\n",
    "solve.rotate(nums, k)\n",
    "nums"
   ]
  },
  {
   "cell_type": "code",
   "execution_count": 12,
   "id": "186f2106",
   "metadata": {},
   "outputs": [
    {
     "data": {
      "text/plain": [
       "[3, 99, -1, -100]"
      ]
     },
     "execution_count": 12,
     "metadata": {},
     "output_type": "execute_result"
    }
   ],
   "source": [
    "nums = [-1,-100,3,99]\n",
    "k = 2\n",
    "\n",
    "solve.rotate(nums, k)"
   ]
  },
  {
   "cell_type": "code",
   "execution_count": 12,
   "id": "1482c81f",
   "metadata": {},
   "outputs": [
    {
     "data": {
      "text/plain": [
       "[3, 99, -1, -100]"
      ]
     },
     "execution_count": 12,
     "metadata": {},
     "output_type": "execute_result"
    }
   ],
   "source": [
    "nums = [-1,-100,3,99]\n",
    "k = 2\n",
    "\n",
    "solve.rotate(nums, k)"
   ]
  }
 ],
 "metadata": {
  "kernelspec": {
   "display_name": "Python 3 (ipykernel)",
   "language": "python",
   "name": "python3"
  },
  "language_info": {
   "codemirror_mode": {
    "name": "ipython",
    "version": 3
   },
   "file_extension": ".py",
   "mimetype": "text/x-python",
   "name": "python",
   "nbconvert_exporter": "python",
   "pygments_lexer": "ipython3",
   "version": "3.9.7"
  }
 },
 "nbformat": 4,
 "nbformat_minor": 5
}
