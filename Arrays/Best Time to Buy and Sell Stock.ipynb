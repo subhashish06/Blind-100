{
 "cells": [
  {
   "cell_type": "markdown",
   "id": "f9e23092",
   "metadata": {},
   "source": [
    "# 3. Best Time to Buy and Sell Stock"
   ]
  },
  {
   "cell_type": "markdown",
   "id": "f886c6f0",
   "metadata": {},
   "source": [
    "You are given an array prices where prices[i] is the price of a given stock on the ith day.\n",
    "\n",
    "You want to maximize your profit by choosing a single day to buy one stock and choosing a different day in the future to sell that stock.\n",
    "\n",
    "Return the maximum profit you can achieve from this transaction. If you cannot achieve any profit, return 0.\n",
    "\n",
    " \n",
    "Example 1:\n",
    "\n",
    "Input: prices = [7,1,5,3,6,4]\n",
    "Output: 5\n",
    "Explanation: Buy on day 2 (price = 1) and sell on day 5 (price = 6), profit = 6-1 = 5.\n",
    "Note that buying on day 2 and selling on day 1 is not allowed because you must buy before you sell.\n",
    "\n",
    "\n",
    "Example 2:\n",
    "\n",
    "Input: prices = [7,6,4,3,1]\n",
    "Output: 0\n",
    "Explanation: In this case, no transactions are done and the max profit = 0.\n",
    " \n",
    "\n",
    "Constraints:\n",
    "\n",
    "1 <= prices.length <= 10^5\n",
    "0 <= prices[i] <= 10^4"
   ]
  },
  {
   "cell_type": "markdown",
   "id": "8196aa10",
   "metadata": {},
   "source": [
    "- Let's try the brute force first"
   ]
  },
  {
   "cell_type": "code",
   "execution_count": 3,
   "id": "7333fe30",
   "metadata": {},
   "outputs": [],
   "source": [
    "class Solution:\n",
    "    def maxProfit(self, prices):\n",
    "        result = 0\n",
    "        \n",
    "        for b in range(len(prices)):\n",
    "            for s in range(b+1, len(prices)):\n",
    "                profit = prices[s] - prices[b]\n",
    "                if profit > result:\n",
    "                    result = profit\n",
    "                    \n",
    "        return result\n",
    "    \n",
    "solve = Solution()"
   ]
  },
  {
   "cell_type": "code",
   "execution_count": 4,
   "id": "df3c6bd1",
   "metadata": {},
   "outputs": [
    {
     "data": {
      "text/plain": [
       "5"
      ]
     },
     "execution_count": 4,
     "metadata": {},
     "output_type": "execute_result"
    }
   ],
   "source": [
    "prices = [7,1,5,3,6,4]\n",
    "\n",
    "solve.maxProfit(prices)"
   ]
  },
  {
   "cell_type": "code",
   "execution_count": 11,
   "id": "7fe77b19",
   "metadata": {
    "scrolled": true
   },
   "outputs": [
    {
     "data": {
      "text/plain": [
       "0"
      ]
     },
     "execution_count": 11,
     "metadata": {},
     "output_type": "execute_result"
    }
   ],
   "source": [
    "prices = [7,6,4,3,1]\n",
    "\n",
    "solve.maxProfit(prices)"
   ]
  },
  {
   "cell_type": "markdown",
   "id": "55b1a8af",
   "metadata": {},
   "source": [
    "- Now we optimize the code with two pointer and a sliding window."
   ]
  },
  {
   "cell_type": "code",
   "execution_count": 8,
   "id": "0545dd34",
   "metadata": {},
   "outputs": [],
   "source": [
    "class Solution:\n",
    "    def maxProfit(self, prices):\n",
    "        result = 0\n",
    "        b, s = 0, 1\n",
    "        \n",
    "        while s < len(prices):\n",
    "            if prices[s] > prices[b]:\n",
    "                profit = prices[s] - prices[b]\n",
    "                result = max(profit, result)\n",
    "            else:\n",
    "                b = s\n",
    "            s += 1\n",
    "                    \n",
    "        return result\n",
    "    \n",
    "solve_n = Solution()"
   ]
  },
  {
   "cell_type": "code",
   "execution_count": 9,
   "id": "d8b0b71e",
   "metadata": {},
   "outputs": [
    {
     "data": {
      "text/plain": [
       "5"
      ]
     },
     "execution_count": 9,
     "metadata": {},
     "output_type": "execute_result"
    }
   ],
   "source": [
    "prices = [7,1,5,3,6,4]\n",
    "\n",
    "solve_n.maxProfit(prices)"
   ]
  },
  {
   "cell_type": "code",
   "execution_count": 10,
   "id": "5b701051",
   "metadata": {
    "scrolled": true
   },
   "outputs": [
    {
     "data": {
      "text/plain": [
       "0"
      ]
     },
     "execution_count": 10,
     "metadata": {},
     "output_type": "execute_result"
    }
   ],
   "source": [
    "prices = [7,6,4,3,1]\n",
    "\n",
    "solve_n.maxProfit(prices)"
   ]
  }
 ],
 "metadata": {
  "kernelspec": {
   "display_name": "Python 3 (ipykernel)",
   "language": "python",
   "name": "python3"
  },
  "language_info": {
   "codemirror_mode": {
    "name": "ipython",
    "version": 3
   },
   "file_extension": ".py",
   "mimetype": "text/x-python",
   "name": "python",
   "nbconvert_exporter": "python",
   "pygments_lexer": "ipython3",
   "version": "3.9.7"
  }
 },
 "nbformat": 4,
 "nbformat_minor": 5
}
