{
 "cells": [
  {
   "cell_type": "markdown",
   "id": "7d684df6",
   "metadata": {},
   "source": [
    "# 5. Maximum Subarray"
   ]
  },
  {
   "cell_type": "markdown",
   "id": "a030ae03",
   "metadata": {},
   "source": [
    "Given an integer array nums, find the subarray with the largest sum, and return its sum.\n",
    "\n",
    " \n",
    "\n",
    "Example 1:\n",
    "\n",
    "Input: nums = [-2,1,-3,4,-1,2,1,-5,4]\n",
    "Output: 6\n",
    "Explanation: The subarray [4,-1,2,1] has the largest sum 6.\n",
    "\n",
    "Example 2:\n",
    "\n",
    "Input: nums = [1]\n",
    "Output: 1\n",
    "Explanation: The subarray [1] has the largest sum 1.\n",
    "\n",
    "Example 3:\n",
    "\n",
    "Input: nums = [5,4,-1,7,8]\n",
    "Output: 23\n",
    "Explanation: The subarray [5,4,-1,7,8] has the largest sum 23.\n",
    " \n",
    "\n",
    "Constraints:\n",
    "\n",
    "1 <= nums.length <= 10^5\n",
    "-10^4 <= nums[i] <= 10^4\n",
    " \n",
    "\n",
    "Follow up: If you have figured out the O(n) solution, try coding another solution using the divide and conquer approach, which is more subtle."
   ]
  },
  {
   "cell_type": "markdown",
   "id": "77b7db44",
   "metadata": {},
   "source": [
    "- Try Brute Force Solution"
   ]
  },
  {
   "cell_type": "code",
   "execution_count": 10,
   "id": "b0c722e5",
   "metadata": {},
   "outputs": [],
   "source": [
    "class Solution:\n",
    "    def maxSubArray(self, nums):\n",
    "        max_sum = 0\n",
    "        \n",
    "        for l in range(0, len(nums)):\n",
    "            for r in range(l + 1, len(nums) + 1):\n",
    "                array_sum = sum(nums[l:r])\n",
    "                max_sum = max(max_sum, array_sum)\n",
    "        return max_sum\n",
    "    \n",
    "solve = Solution()"
   ]
  },
  {
   "cell_type": "code",
   "execution_count": 3,
   "id": "99abe327",
   "metadata": {},
   "outputs": [
    {
     "data": {
      "text/plain": [
       "6"
      ]
     },
     "execution_count": 3,
     "metadata": {},
     "output_type": "execute_result"
    }
   ],
   "source": [
    "nums = [-2,1,-3,4,-1,2,1,-5,4]\n",
    "\n",
    "solve.maxSubArray(nums)"
   ]
  },
  {
   "cell_type": "code",
   "execution_count": 8,
   "id": "b2ae4cdf",
   "metadata": {},
   "outputs": [
    {
     "data": {
      "text/plain": [
       "1"
      ]
     },
     "execution_count": 8,
     "metadata": {},
     "output_type": "execute_result"
    }
   ],
   "source": [
    "nums = [1]\n",
    "\n",
    "solve.maxSubArray(nums)"
   ]
  },
  {
   "cell_type": "code",
   "execution_count": 9,
   "id": "8e39a91c",
   "metadata": {
    "scrolled": true
   },
   "outputs": [
    {
     "data": {
      "text/plain": [
       "23"
      ]
     },
     "execution_count": 9,
     "metadata": {},
     "output_type": "execute_result"
    }
   ],
   "source": [
    "nums = [5,4,-1,7,8]\n",
    "\n",
    "solve.maxSubArray(nums)"
   ]
  },
  {
   "cell_type": "markdown",
   "id": "df76a699",
   "metadata": {},
   "source": [
    "- Now we optimize"
   ]
  },
  {
   "cell_type": "code",
   "execution_count": 11,
   "id": "7bc95256",
   "metadata": {},
   "outputs": [],
   "source": [
    "class Solution:\n",
    "    def maxSubArray(self, nums):\n",
    "        max_sum = nums[0]\n",
    "        curr_sum = 0\n",
    "        \n",
    "        for n in nums:\n",
    "            if curr_sum < 0:\n",
    "                curr_sum = 0\n",
    "            curr_sum += n\n",
    "            max_sum = max(curr_sum, max_sum)\n",
    "            \n",
    "        return max_sum\n",
    "    \n",
    "solve_n = Solution()"
   ]
  },
  {
   "cell_type": "code",
   "execution_count": 12,
   "id": "661d118d",
   "metadata": {},
   "outputs": [
    {
     "data": {
      "text/plain": [
       "6"
      ]
     },
     "execution_count": 12,
     "metadata": {},
     "output_type": "execute_result"
    }
   ],
   "source": [
    "nums = [-2,1,-3,4,-1,2,1,-5,4]\n",
    "\n",
    "solve_n.maxSubArray(nums)"
   ]
  },
  {
   "cell_type": "code",
   "execution_count": 13,
   "id": "b071b846",
   "metadata": {},
   "outputs": [
    {
     "data": {
      "text/plain": [
       "1"
      ]
     },
     "execution_count": 13,
     "metadata": {},
     "output_type": "execute_result"
    }
   ],
   "source": [
    "nums = [1]\n",
    "\n",
    "solve_n.maxSubArray(nums)"
   ]
  },
  {
   "cell_type": "code",
   "execution_count": 14,
   "id": "0c131d5b",
   "metadata": {
    "scrolled": true
   },
   "outputs": [
    {
     "data": {
      "text/plain": [
       "23"
      ]
     },
     "execution_count": 14,
     "metadata": {},
     "output_type": "execute_result"
    }
   ],
   "source": [
    "nums = [5,4,-1,7,8]\n",
    "\n",
    "solve_n.maxSubArray(nums)"
   ]
  }
 ],
 "metadata": {
  "kernelspec": {
   "display_name": "Python 3 (ipykernel)",
   "language": "python",
   "name": "python3"
  },
  "language_info": {
   "codemirror_mode": {
    "name": "ipython",
    "version": 3
   },
   "file_extension": ".py",
   "mimetype": "text/x-python",
   "name": "python",
   "nbconvert_exporter": "python",
   "pygments_lexer": "ipython3",
   "version": "3.9.7"
  }
 },
 "nbformat": 4,
 "nbformat_minor": 5
}
