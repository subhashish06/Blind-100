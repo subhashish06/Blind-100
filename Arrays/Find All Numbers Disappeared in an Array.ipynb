{
 "cells": [
  {
   "cell_type": "markdown",
   "id": "b1305d7e",
   "metadata": {},
   "source": [
    "# 10. Find All Numbers Disappeared in an Array"
   ]
  },
  {
   "cell_type": "markdown",
   "id": "eadf0dcb",
   "metadata": {},
   "source": [
    "Given an array nums of n integers where nums[i] is in the range [1, n], return an array of all the integers in the range [1, n] that do not appear in nums.\n",
    "\n",
    " \n",
    "\n",
    "Example 1:\n",
    "\n",
    "- Input: nums = [4,3,2,7,8,2,3,1]\n",
    "- Output: [5,6]\n",
    "\n",
    "\n",
    "Example 2:\n",
    "\n",
    "- Input: nums = [1,1]\n",
    "- Output: [2]\n",
    " \n",
    "\n",
    "Constraints:\n",
    "\n",
    "- n == nums.length\n",
    "- 1 <= n <= 10^5\n",
    "- 1 <= nums[i] <= n\n",
    " \n",
    "\n",
    "Follow up: Could you do it without extra space and in O(n) runtime? You may assume the returned list does not count as extra space."
   ]
  },
  {
   "cell_type": "code",
   "execution_count": 1,
   "id": "b0b5e998",
   "metadata": {},
   "outputs": [],
   "source": [
    "class Solution:\n",
    "    def findDisappearedNumbers(self, nums):\n",
    "        big_set = set(range(1, len(nums) + 1))\n",
    "        small_set = set(nums)\n",
    "        \n",
    "        missing_set = big_set - small_set\n",
    "        \n",
    "        return list(missing_set)\n",
    "    \n",
    "solve = Solution()"
   ]
  },
  {
   "cell_type": "code",
   "execution_count": 2,
   "id": "56144a77",
   "metadata": {},
   "outputs": [
    {
     "data": {
      "text/plain": [
       "[5, 6]"
      ]
     },
     "execution_count": 2,
     "metadata": {},
     "output_type": "execute_result"
    }
   ],
   "source": [
    "nums = [4,3,2,7,8,2,3,1]\n",
    "\n",
    "solve.findDisappearedNumbers(nums)"
   ]
  },
  {
   "cell_type": "code",
   "execution_count": 3,
   "id": "c5c8fd6d",
   "metadata": {},
   "outputs": [
    {
     "data": {
      "text/plain": [
       "[2]"
      ]
     },
     "execution_count": 3,
     "metadata": {},
     "output_type": "execute_result"
    }
   ],
   "source": [
    "nums = [1,1]\n",
    "\n",
    "solve.findDisappearedNumbers(nums)"
   ]
  }
 ],
 "metadata": {
  "kernelspec": {
   "display_name": "Python 3 (ipykernel)",
   "language": "python",
   "name": "python3"
  },
  "language_info": {
   "codemirror_mode": {
    "name": "ipython",
    "version": 3
   },
   "file_extension": ".py",
   "mimetype": "text/x-python",
   "name": "python",
   "nbconvert_exporter": "python",
   "pygments_lexer": "ipython3",
   "version": "3.9.7"
  }
 },
 "nbformat": 4,
 "nbformat_minor": 5
}
