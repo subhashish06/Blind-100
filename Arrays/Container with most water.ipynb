{
 "cells": [
  {
   "cell_type": "markdown",
   "id": "7c6d8c68",
   "metadata": {},
   "source": [
    "# 2. Container with most water"
   ]
  },
  {
   "cell_type": "markdown",
   "id": "2cda61ec",
   "metadata": {},
   "source": [
    "You are given an integer array height of length n. There are n vertical lines drawn such that the two endpoints of the ith line are (i, 0) and (i, height[i]).\n",
    "\n",
    "Find two lines that together with the x-axis form a container, such that the container contains the most water.\n",
    "\n",
    "Return the maximum amount of water a container can store.\n",
    "\n",
    "Notice that you may not slant the container.\n",
    "\n",
    " \n",
    "Example 1:\n",
    "\n",
    "Input: height = [1,8,6,2,5,4,8,3,7]\n",
    "Output: 49\n",
    "Explanation: The above vertical lines are represented by array [1,8,6,2,5,4,8,3,7]. In this case, the max area of water (blue section) the container can contain is 49.\n",
    "\n",
    "Example 2:\n",
    "\n",
    "Input: height = [1,1]\n",
    "Output: 1\n",
    " \n",
    "\n",
    "Constraints:\n",
    "\n",
    "n == height.length\n",
    "2 <= n <= 105\n",
    "0 <= height[i] <= 104"
   ]
  },
  {
   "cell_type": "markdown",
   "id": "e5c03412",
   "metadata": {},
   "source": [
    "- Let's try the brute force first"
   ]
  },
  {
   "cell_type": "code",
   "execution_count": 77,
   "id": "d97e89bd",
   "metadata": {},
   "outputs": [],
   "source": [
    "class Solution:\n",
    "    def maxArea(self, height):\n",
    "        result = 0\n",
    "        for l in range(len(height)):\n",
    "            for r in range(l+1, len(height)):\n",
    "                area = (r - l) * min(height[l], height[r])\n",
    "#                 print(\"#####\")\n",
    "#                 print( f\"AREA = ({r} - {l}) * min({height[l]}, {height[r]})\")\n",
    "#                 print( f\"AREA = ({r} - {l}) * {min(height[l], height[r])}\")\n",
    "#                 print(f\"Area is {area}, Result is {result}\")\n",
    "#                 print(\"#####\")\n",
    "                if area > result:\n",
    "                    result = area\n",
    "        \n",
    "        return result\n",
    "    \n",
    "solve = Solution()"
   ]
  },
  {
   "cell_type": "code",
   "execution_count": 78,
   "id": "264d9010",
   "metadata": {},
   "outputs": [
    {
     "data": {
      "text/plain": [
       "49"
      ]
     },
     "execution_count": 78,
     "metadata": {},
     "output_type": "execute_result"
    }
   ],
   "source": [
    "height = [1,8,6,2,5,4,8,3,7]\n",
    "\n",
    "solve.maxArea(height)"
   ]
  },
  {
   "cell_type": "markdown",
   "id": "e6a7f028",
   "metadata": {},
   "source": [
    "- Now we optimize the code"
   ]
  },
  {
   "cell_type": "code",
   "execution_count": 81,
   "id": "7fb69b84",
   "metadata": {},
   "outputs": [],
   "source": [
    "class Solution:\n",
    "    def maxArea(self, height):\n",
    "        result = 0\n",
    "        l, r = 0, len(height) -1\n",
    "        \n",
    "        while l < r:\n",
    "            area = (r - l) * min(height[l], height[r])\n",
    "            if area > result:\n",
    "                result = area\n",
    "                \n",
    "            if height[l] < height[r]:\n",
    "                l += 1\n",
    "            else:\n",
    "                r -= 1\n",
    "        \n",
    "        return result\n",
    "\n",
    "solve_n = Solution()"
   ]
  },
  {
   "cell_type": "code",
   "execution_count": 82,
   "id": "e577d5d8",
   "metadata": {},
   "outputs": [
    {
     "data": {
      "text/plain": [
       "49"
      ]
     },
     "execution_count": 82,
     "metadata": {},
     "output_type": "execute_result"
    }
   ],
   "source": [
    "height = [1,8,6,2,5,4,8,3,7]\n",
    "\n",
    "solve_n.maxArea(height)"
   ]
  }
 ],
 "metadata": {
  "kernelspec": {
   "display_name": "Python 3 (ipykernel)",
   "language": "python",
   "name": "python3"
  },
  "language_info": {
   "codemirror_mode": {
    "name": "ipython",
    "version": 3
   },
   "file_extension": ".py",
   "mimetype": "text/x-python",
   "name": "python",
   "nbconvert_exporter": "python",
   "pygments_lexer": "ipython3",
   "version": "3.9.7"
  }
 },
 "nbformat": 4,
 "nbformat_minor": 5
}
