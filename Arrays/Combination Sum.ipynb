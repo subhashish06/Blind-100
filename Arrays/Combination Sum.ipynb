{
 "cells": [
  {
   "cell_type": "markdown",
   "id": "5b6d9b15",
   "metadata": {},
   "source": [
    "# 8. Combination Sum"
   ]
  },
  {
   "cell_type": "markdown",
   "id": "06a2252e",
   "metadata": {},
   "source": [
    "Given an array of distinct integers candidates and a target integer target, return a list of all unique combinations of candidates where the chosen numbers sum to target. You may return the combinations in any order.\n",
    "\n",
    "The same number may be chosen from candidates an unlimited number of times. Two combinations are unique if the \n",
    "frequency\n",
    " of at least one of the chosen numbers is different.\n",
    "\n",
    "The test cases are generated such that the number of unique combinations that sum up to target is less than 150 combinations for the given input.\n",
    "\n",
    " \n",
    "\n",
    "Example 1:\n",
    "\n",
    "- Input: candidates = [2,3,6,7], target = 7\n",
    "- Output: [[2,2,3],[7]]\n",
    "- Explanation:\n",
    "2 and 3 are candidates, and 2 + 2 + 3 = 7. Note that 2 can be used multiple times.\n",
    "7 is a candidate, and 7 = 7.\n",
    "These are the only two combinations.\n",
    "\n",
    "\n",
    "Example 2:\n",
    "\n",
    "- Input: candidates = [2,3,5], target = 8\n",
    "- Output: [[2,2,2,2],[2,3,3],[3,5]]\n",
    "\n",
    "\n",
    "Example 3:\n",
    "\n",
    "- Input: candidates = [2], target = 1\n",
    "- Output: []\n",
    " \n",
    "\n",
    "Constraints:\n",
    "\n",
    "- 1 <= candidates.length <= 30\n",
    "- 2 <= candidates[i] <= 40\n",
    "- All elements of candidates are distinct.\n",
    "- 1 <= target <= 40"
   ]
  },
  {
   "cell_type": "code",
   "execution_count": 9,
   "id": "eaba47e8",
   "metadata": {},
   "outputs": [],
   "source": [
    "class Solution:\n",
    "    def combinationSum(self, candidates, target):\n",
    "        table = [[] for x in range(target + 1)]\n",
    "        print(table)\n",
    "        \n",
    "        for idx, val in enumerate(table):\n",
    "            for num in candidates:\n",
    "                if (idx + num) < target + 1:\n",
    "                    print(f\"{idx} + {num}\")\n",
    "                    table[idx + num].append([table[idx].append(num)])\n",
    "                                        \n",
    "        return table[target]\n",
    "            \n",
    "solve = Solution()                                          "
   ]
  },
  {
   "cell_type": "code",
   "execution_count": 10,
   "id": "666a7fdf",
   "metadata": {},
   "outputs": [
    {
     "name": "stdout",
     "output_type": "stream",
     "text": [
      "[[], [], [], [], [], [], [], []]\n",
      "0 + 2\n",
      "0 + 3\n",
      "0 + 6\n",
      "0 + 7\n",
      "1 + 2\n",
      "1 + 3\n",
      "1 + 6\n",
      "2 + 2\n",
      "2 + 3\n",
      "3 + 2\n",
      "3 + 3\n",
      "4 + 2\n",
      "4 + 3\n",
      "5 + 2\n"
     ]
    },
    {
     "data": {
      "text/plain": [
       "[[None], [None], [None], [None]]"
      ]
     },
     "execution_count": 10,
     "metadata": {},
     "output_type": "execute_result"
    }
   ],
   "source": [
    "candidates = [2,3,6,7]\n",
    "target = 7\n",
    "\n",
    "solve.combinationSum(candidates, target)"
   ]
  }
 ],
 "metadata": {
  "kernelspec": {
   "display_name": "Python 3 (ipykernel)",
   "language": "python",
   "name": "python3"
  },
  "language_info": {
   "codemirror_mode": {
    "name": "ipython",
    "version": 3
   },
   "file_extension": ".py",
   "mimetype": "text/x-python",
   "name": "python",
   "nbconvert_exporter": "python",
   "pygments_lexer": "ipython3",
   "version": "3.9.7"
  }
 },
 "nbformat": 4,
 "nbformat_minor": 5
}
