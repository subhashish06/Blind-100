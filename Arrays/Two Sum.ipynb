{
 "cells": [
  {
   "cell_type": "markdown",
   "id": "07107784",
   "metadata": {},
   "source": [
    "# 1. Two Sum"
   ]
  },
  {
   "cell_type": "markdown",
   "id": "439b16a3",
   "metadata": {},
   "source": [
    "Given an array of integers nums and an integer target, return indices of the two numbers such that they add up to target.\n",
    "\n",
    "You may assume that each input would have exactly one solution, and you may not use the same element twice.\n",
    "\n",
    "You can return the answer in any order.\n",
    "\n",
    " \n",
    "\n",
    "Example 1:\n",
    "\n",
    "Input: nums = [2,7,11,15], target = 9\n",
    "Output: [0,1]\n",
    "Explanation: Because nums[0] + nums[1] == 9, we return [0, 1].\n",
    "Example 2:\n",
    "\n",
    "Input: nums = [3,2,4], target = 6\n",
    "\n",
    "Output: [1,2]\n",
    "Example 3:\n",
    "\n",
    "Input: nums = [3,3], target = 6\n",
    "Output: [0,1]\n",
    " \n",
    "\n",
    "Constraints:\n",
    "\n",
    "2 <= nums.length <= 104\n",
    "-109 <= nums[i] <= 109\n",
    "-109 <= target <= 109\n",
    "Only one valid answer exists.\n",
    " \n",
    "\n",
    "Follow-up: Can you come up with an algorithm that is less than O(n2) time complexity?"
   ]
  },
  {
   "cell_type": "markdown",
   "id": "a5675e9b",
   "metadata": {},
   "source": [
    "- Let's give it a try first:"
   ]
  },
  {
   "cell_type": "code",
   "execution_count": 26,
   "id": "bf21c14a",
   "metadata": {},
   "outputs": [
    {
     "data": {
      "text/plain": [
       "[(2, 7), (2, 11), (2, 15), (7, 11), (7, 15), (11, 15)]"
      ]
     },
     "execution_count": 26,
     "metadata": {},
     "output_type": "execute_result"
    }
   ],
   "source": [
    "from itertools import combinations\n",
    "\n",
    "nums = [2,7,11,15]\n",
    "target = 9\n",
    "\n",
    "num_combinations = list(combinations(nums, 2))\n",
    "num_combinations"
   ]
  },
  {
   "cell_type": "code",
   "execution_count": 28,
   "id": "163d74c4",
   "metadata": {},
   "outputs": [
    {
     "data": {
      "text/plain": [
       "[(2, 7)]"
      ]
     },
     "execution_count": 28,
     "metadata": {},
     "output_type": "execute_result"
    }
   ],
   "source": [
    "solution = [(x,y) for (x,y) in num_combinations if x+y==9]\n",
    "solution"
   ]
  },
  {
   "cell_type": "markdown",
   "id": "3d6300ee",
   "metadata": {},
   "source": [
    "- Brute Force way"
   ]
  },
  {
   "cell_type": "code",
   "execution_count": 33,
   "id": "3a87591b",
   "metadata": {},
   "outputs": [],
   "source": [
    "class Solution:\n",
    "    \n",
    "    def twoSum(self, nums, target):\n",
    "        n = len(nums)\n",
    "        for i in range(n-1):\n",
    "            for j in range(i+1, n):\n",
    "                if nums[i] + nums[j] == target:\n",
    "                    return [i, j]\n",
    "\n",
    "solve = Solution()"
   ]
  },
  {
   "cell_type": "code",
   "execution_count": 34,
   "id": "984c42ed",
   "metadata": {},
   "outputs": [
    {
     "data": {
      "text/plain": [
       "[0, 1]"
      ]
     },
     "execution_count": 34,
     "metadata": {},
     "output_type": "execute_result"
    }
   ],
   "source": [
    "nums = [2,7,11,15]\n",
    "target = 9\n",
    "\n",
    "solve.twoSum(nums, target)"
   ]
  },
  {
   "cell_type": "code",
   "execution_count": 35,
   "id": "6f40b86a",
   "metadata": {},
   "outputs": [
    {
     "data": {
      "text/plain": [
       "[1, 2]"
      ]
     },
     "execution_count": 35,
     "metadata": {},
     "output_type": "execute_result"
    }
   ],
   "source": [
    "nums = [3,2,4]\n",
    "target = 6\n",
    "\n",
    "solve.twoSum(nums, target)"
   ]
  },
  {
   "cell_type": "code",
   "execution_count": 36,
   "id": "1158e455",
   "metadata": {},
   "outputs": [
    {
     "data": {
      "text/plain": [
       "[0, 1]"
      ]
     },
     "execution_count": 36,
     "metadata": {},
     "output_type": "execute_result"
    }
   ],
   "source": [
    "nums = [3,3]\n",
    "target = 6\n",
    "\n",
    "solve.twoSum(nums, target)"
   ]
  },
  {
   "cell_type": "markdown",
   "id": "90a4058b",
   "metadata": {},
   "source": [
    "- Follow-up: Can you come up with an algorithm that is less than O(n2) time complexity?"
   ]
  },
  {
   "cell_type": "code",
   "execution_count": 41,
   "id": "a7e8bf49",
   "metadata": {},
   "outputs": [],
   "source": [
    "class Solution:\n",
    "    \n",
    "    def twoSum(self, nums, target):       \n",
    "        map = {} #key,value of this map is the number:it's_index\n",
    "        n = len(nums)\n",
    "        \n",
    "        for i in range(n):\n",
    "            # For every number, if the diff to target is not there in map, add it to the map.\n",
    "            if (target - nums[i]) not in map:\n",
    "                map[nums[i]] = i\n",
    "            # If for a number, the diff to target is available in map, thats the two sum.\n",
    "            else:\n",
    "                return [map[target - nums[i]], i]\n",
    "\n",
    "\n",
    "solve_n = Solution()"
   ]
  },
  {
   "cell_type": "code",
   "execution_count": 42,
   "id": "f5d46e9e",
   "metadata": {},
   "outputs": [
    {
     "data": {
      "text/plain": [
       "[0, 1]"
      ]
     },
     "execution_count": 42,
     "metadata": {},
     "output_type": "execute_result"
    }
   ],
   "source": [
    "nums = [2,7,11,15]\n",
    "target = 9\n",
    "\n",
    "solve_n.twoSum(nums, target)"
   ]
  },
  {
   "cell_type": "code",
   "execution_count": 43,
   "id": "f45bcf71",
   "metadata": {},
   "outputs": [
    {
     "data": {
      "text/plain": [
       "[1, 2]"
      ]
     },
     "execution_count": 43,
     "metadata": {},
     "output_type": "execute_result"
    }
   ],
   "source": [
    "nums = [3,2,4]\n",
    "target = 6\n",
    "\n",
    "solve_n.twoSum(nums, target)"
   ]
  },
  {
   "cell_type": "code",
   "execution_count": 44,
   "id": "ecec0d5c",
   "metadata": {},
   "outputs": [
    {
     "data": {
      "text/plain": [
       "[0, 1]"
      ]
     },
     "execution_count": 44,
     "metadata": {},
     "output_type": "execute_result"
    }
   ],
   "source": [
    "nums = [3,3]\n",
    "target = 6\n",
    "\n",
    "solve_n.twoSum(nums, target)"
   ]
  }
 ],
 "metadata": {
  "kernelspec": {
   "display_name": "Python 3 (ipykernel)",
   "language": "python",
   "name": "python3"
  },
  "language_info": {
   "codemirror_mode": {
    "name": "ipython",
    "version": 3
   },
   "file_extension": ".py",
   "mimetype": "text/x-python",
   "name": "python",
   "nbconvert_exporter": "python",
   "pygments_lexer": "ipython3",
   "version": "3.9.7"
  }
 },
 "nbformat": 4,
 "nbformat_minor": 5
}
