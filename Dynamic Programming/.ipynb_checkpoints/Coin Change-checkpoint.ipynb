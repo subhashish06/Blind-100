{
 "cells": [
  {
   "cell_type": "markdown",
   "id": "1af638b1",
   "metadata": {},
   "source": [
    "# 2.Coin Change"
   ]
  },
  {
   "cell_type": "markdown",
   "id": "76c4f8d8",
   "metadata": {},
   "source": [
    "You are given an integer array coins representing coins of different denominations and an integer amount representing a total amount of money.\n",
    "\n",
    "Return the fewest number of coins that you need to make up that amount. If that amount of money cannot be made up by any combination of the coins, return -1.\n",
    "\n",
    "You may assume that you have an infinite number of each kind of coin.\n",
    "\n",
    " \n",
    "\n",
    "Example 1:\n",
    "\n",
    "- Input: coins = [1,2,5], amount = 11\n",
    "- Output: 3\n",
    "- Explanation: 11 = 5 + 5 + 1\n",
    "\n",
    "\n",
    "Example 2:\n",
    "\n",
    "- Input: coins = [2], amount = 3\n",
    "- Output: -1\n",
    "\n",
    "Example 3:\n",
    "\n",
    "-Input: coins = [1], amount = 0\n",
    "- Output: 0\n",
    " \n",
    "\n",
    "Constraints:\n",
    "\n",
    "- 1 <= coins.length <= 12\n",
    "- 1 <= coins[i] <= 2^31 - 1\n",
    "- 0 <= amount <= 10^4"
   ]
  },
  {
   "cell_type": "code",
   "execution_count": 2,
   "id": "f38125f5",
   "metadata": {},
   "outputs": [
    {
     "data": {
      "text/plain": [
       "[5, 2, 1]"
      ]
     },
     "execution_count": 2,
     "metadata": {},
     "output_type": "execute_result"
    }
   ],
   "source": [
    "coins = [1, 2, 5]\n",
    "coins.sort(reverse=True)\n",
    "coins"
   ]
  },
  {
   "cell_type": "code",
   "execution_count": 44,
   "id": "bea613f3",
   "metadata": {},
   "outputs": [
    {
     "name": "stdout",
     "output_type": "stream",
     "text": [
      "[6]\n"
     ]
    }
   ],
   "source": [
    "x = []\n",
    "x.append(6)\n",
    "print(x)"
   ]
  },
  {
   "cell_type": "markdown",
   "id": "1e19439b",
   "metadata": {},
   "source": [
    "Following is a way to get the howSum result."
   ]
  },
  {
   "cell_type": "code",
   "execution_count": 52,
   "id": "c3c2ca52",
   "metadata": {},
   "outputs": [],
   "source": [
    "class Solution:\n",
    "    def coinChange(self, coins, amount):\n",
    "        if amount == 0:\n",
    "            return []\n",
    "        if amount < 1:\n",
    "            return None \n",
    "        \n",
    "        for coin in sorted(coins, reverse=True):\n",
    "            rem = amount - coin\n",
    "            rem_result = self.coinChange(coins, rem)\n",
    "            if rem_result != None:\n",
    "                result = rem_result\n",
    "                result_to_return = rem_result.append(coin)\n",
    "                return result\n",
    "            \n",
    "        return None\n",
    "        \n",
    "solve = Solution()"
   ]
  },
  {
   "cell_type": "code",
   "execution_count": 53,
   "id": "515c651f",
   "metadata": {
    "scrolled": true
   },
   "outputs": [
    {
     "name": "stdout",
     "output_type": "stream",
     "text": [
      "[1, 5, 5]\n"
     ]
    }
   ],
   "source": [
    "coins = [1, 2, 5]\n",
    "amount = 11\n",
    "\n",
    "print(solve.coinChange(coins, amount))"
   ]
  },
  {
   "cell_type": "code",
   "execution_count": 54,
   "id": "5992b8e0",
   "metadata": {},
   "outputs": [
    {
     "name": "stdout",
     "output_type": "stream",
     "text": [
      "None\n"
     ]
    }
   ],
   "source": [
    "coins = [2]\n",
    "amount = 3\n",
    "\n",
    "print(solve.coinChange(coins, amount))"
   ]
  },
  {
   "cell_type": "code",
   "execution_count": 55,
   "id": "4df0c070",
   "metadata": {},
   "outputs": [
    {
     "name": "stdout",
     "output_type": "stream",
     "text": [
      "[]\n"
     ]
    }
   ],
   "source": [
    "coins = [1]\n",
    "amount = 0\n",
    "\n",
    "print(solve.coinChange(coins, amount))"
   ]
  },
  {
   "cell_type": "code",
   "execution_count": 63,
   "id": "86f3e5dd",
   "metadata": {},
   "outputs": [],
   "source": [
    "class Solution:\n",
    "    def coinChange(self, coins, amount):\n",
    "        tab = [amount + 1] * (amount + 1)\n",
    "        tab[0] = 0\n",
    "        \n",
    "        for a in range(1, amount + 1):\n",
    "            for coin in coins:\n",
    "                if (a - coin) >= 0:\n",
    "                    tab[a] = min(tab[a], 1 + tab[a - coin])\n",
    "        \n",
    "        if tab[amount] == (amount + 1):\n",
    "            tab[amount] = -1\n",
    "        return tab[amount]                \n",
    "        \n",
    "solve_dp = Solution()"
   ]
  },
  {
   "cell_type": "code",
   "execution_count": 58,
   "id": "cdd13250",
   "metadata": {
    "scrolled": true
   },
   "outputs": [
    {
     "name": "stdout",
     "output_type": "stream",
     "text": [
      "3\n"
     ]
    }
   ],
   "source": [
    "coins = [1, 2, 5]\n",
    "amount = 11\n",
    "\n",
    "print(solve_dp.coinChange(coins, amount))"
   ]
  },
  {
   "cell_type": "code",
   "execution_count": 64,
   "id": "60b59cda",
   "metadata": {},
   "outputs": [
    {
     "name": "stdout",
     "output_type": "stream",
     "text": [
      "-1\n"
     ]
    }
   ],
   "source": [
    "coins = [2]\n",
    "amount = 3\n",
    "\n",
    "print(solve_dp.coinChange(coins, amount))"
   ]
  },
  {
   "cell_type": "code",
   "execution_count": 60,
   "id": "7b30b0e8",
   "metadata": {},
   "outputs": [
    {
     "name": "stdout",
     "output_type": "stream",
     "text": [
      "0\n"
     ]
    }
   ],
   "source": [
    "coins = [1]\n",
    "amount = 0\n",
    "\n",
    "print(solve_dp.coinChange(coins, amount))"
   ]
  },
  {
   "cell_type": "code",
   "execution_count": 65,
   "id": "88cad50d",
   "metadata": {},
   "outputs": [
    {
     "name": "stdout",
     "output_type": "stream",
     "text": [
      "2\n"
     ]
    }
   ],
   "source": [
    "coins = [1, 3, 4, 5]\n",
    "amount = 7\n",
    "\n",
    "print(solve_dp.coinChange(coins, amount))"
   ]
  }
 ],
 "metadata": {
  "kernelspec": {
   "display_name": "Python 3 (ipykernel)",
   "language": "python",
   "name": "python3"
  },
  "language_info": {
   "codemirror_mode": {
    "name": "ipython",
    "version": 3
   },
   "file_extension": ".py",
   "mimetype": "text/x-python",
   "name": "python",
   "nbconvert_exporter": "python",
   "pygments_lexer": "ipython3",
   "version": "3.9.7"
  }
 },
 "nbformat": 4,
 "nbformat_minor": 5
}
