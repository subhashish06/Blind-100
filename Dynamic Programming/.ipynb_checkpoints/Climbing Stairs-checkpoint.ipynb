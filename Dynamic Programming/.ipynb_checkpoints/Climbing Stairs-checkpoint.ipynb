{
 "cells": [
  {
   "cell_type": "markdown",
   "id": "d70e4492",
   "metadata": {},
   "source": [
    "# 1. Climbing Stairs"
   ]
  },
  {
   "cell_type": "markdown",
   "id": "54cded95",
   "metadata": {},
   "source": [
    "You are climbing a staircase. It takes n steps to reach the top.\n",
    "\n",
    "Each time you can either climb 1 or 2 steps. In how many distinct ways can you climb to the top?\n",
    "\n",
    " \n",
    "\n",
    "Example 1:\n",
    "\n",
    "- Input: n = 2\n",
    "- Output: 2\n",
    "- Explanation: There are two ways to climb to the top.\n",
    "- - 1. 1 step + 1 step\n",
    "- - 2. 2 steps\n",
    "\n",
    "\n",
    "Example 2:\n",
    "\n",
    "- Input: n = 3\n",
    "- Output: 3\n",
    "- Explanation: There are three ways to climb to the top.\n",
    "- - 1. 1 step + 1 step + 1 step\n",
    "- - 2. 1 step + 2 steps\n",
    "- - 3. 2 steps + 1 step\n",
    " \n",
    "\n",
    "Constraints:\n",
    "\n",
    "- 1 <= n <= 45"
   ]
  },
  {
   "cell_type": "code",
   "execution_count": 2,
   "id": "d9b6efcb",
   "metadata": {},
   "outputs": [],
   "source": [
    "def climbStairs(n, memo={}):\n",
    "    if n in memo:\n",
    "        return memo[n]\n",
    "    if n <= 1:\n",
    "        memo[n] = 1\n",
    "        return memo[n]\n",
    "    memo[n] = climbStairs(n-1, memo) + climbStairs(n-2, memo)\n",
    "    return memo[n]"
   ]
  },
  {
   "cell_type": "code",
   "execution_count": 3,
   "id": "e46aa107",
   "metadata": {},
   "outputs": [
    {
     "data": {
      "text/plain": [
       "8"
      ]
     },
     "execution_count": 3,
     "metadata": {},
     "output_type": "execute_result"
    }
   ],
   "source": [
    "climbStairs(5)"
   ]
  },
  {
   "cell_type": "code",
   "execution_count": 4,
   "id": "3faac4a7",
   "metadata": {},
   "outputs": [
    {
     "data": {
      "text/plain": [
       "63245986"
      ]
     },
     "execution_count": 4,
     "metadata": {},
     "output_type": "execute_result"
    }
   ],
   "source": [
    "climbStairs(38)"
   ]
  },
  {
   "cell_type": "code",
   "execution_count": 5,
   "id": "a4a938a2",
   "metadata": {},
   "outputs": [
    {
     "data": {
      "text/plain": [
       "1836311903"
      ]
     },
     "execution_count": 5,
     "metadata": {},
     "output_type": "execute_result"
    }
   ],
   "source": [
    "climbStairs(45)"
   ]
  }
 ],
 "metadata": {
  "kernelspec": {
   "display_name": "Python 3 (ipykernel)",
   "language": "python",
   "name": "python3"
  },
  "language_info": {
   "codemirror_mode": {
    "name": "ipython",
    "version": 3
   },
   "file_extension": ".py",
   "mimetype": "text/x-python",
   "name": "python",
   "nbconvert_exporter": "python",
   "pygments_lexer": "ipython3",
   "version": "3.9.7"
  }
 },
 "nbformat": 4,
 "nbformat_minor": 5
}
