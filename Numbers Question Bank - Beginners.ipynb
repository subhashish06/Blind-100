{
 "cells": [
  {
   "cell_type": "markdown",
   "id": "29fdd2de",
   "metadata": {},
   "source": [
    "Q1. Write a program to find sum of digits of a given number."
   ]
  },
  {
   "cell_type": "code",
   "execution_count": 22,
   "id": "ace1ca4c",
   "metadata": {},
   "outputs": [],
   "source": [
    "def sum_digits(x):\n",
    "    res = 0\n",
    "    while x > 0:\n",
    "        res += (x % 10)\n",
    "        x = x // 10\n",
    "    return res"
   ]
  },
  {
   "cell_type": "code",
   "execution_count": 23,
   "id": "4dcfdf9b",
   "metadata": {},
   "outputs": [
    {
     "data": {
      "text/plain": [
       "15"
      ]
     },
     "execution_count": 23,
     "metadata": {},
     "output_type": "execute_result"
    }
   ],
   "source": [
    "sum_digits(12345)"
   ]
  },
  {
   "cell_type": "markdown",
   "id": "bb6de2e3",
   "metadata": {},
   "source": [
    "Q2. Write a program to find sum of square of digits of a given number."
   ]
  },
  {
   "cell_type": "code",
   "execution_count": 24,
   "id": "8b35c813",
   "metadata": {},
   "outputs": [],
   "source": [
    "def sum_squared_digits(x):\n",
    "    res = 0\n",
    "    while x > 0:\n",
    "        res += (x % 10) ** 2\n",
    "        x = x // 10\n",
    "    return res"
   ]
  },
  {
   "cell_type": "code",
   "execution_count": 25,
   "id": "2714f27f",
   "metadata": {},
   "outputs": [
    {
     "data": {
      "text/plain": [
       "55"
      ]
     },
     "execution_count": 25,
     "metadata": {},
     "output_type": "execute_result"
    }
   ],
   "source": [
    "sum_squared_digits(12345)"
   ]
  },
  {
   "cell_type": "markdown",
   "id": "1d364424",
   "metadata": {},
   "source": [
    "Q3. Write a program to find sum of cubes of digits of a given number."
   ]
  },
  {
   "cell_type": "code",
   "execution_count": 26,
   "id": "41629615",
   "metadata": {},
   "outputs": [],
   "source": [
    "def sum_cubed_digits(x):\n",
    "    res = 0\n",
    "    while x > 0:\n",
    "        res += (x % 10) ** 3\n",
    "        x = x // 10\n",
    "    return res"
   ]
  },
  {
   "cell_type": "code",
   "execution_count": 27,
   "id": "4debdef8",
   "metadata": {},
   "outputs": [
    {
     "data": {
      "text/plain": [
       "225"
      ]
     },
     "execution_count": 27,
     "metadata": {},
     "output_type": "execute_result"
    }
   ],
   "source": [
    "sum_cubed_digits(12345)"
   ]
  },
  {
   "cell_type": "markdown",
   "id": "29e11e25",
   "metadata": {},
   "source": [
    "Q4. Write a program to check whether a given number is armstrong or not?"
   ]
  },
  {
   "cell_type": "code",
   "execution_count": 32,
   "id": "8dcc67b7",
   "metadata": {},
   "outputs": [],
   "source": [
    "def is_armstrong(x):\n",
    "    num = x\n",
    "    digits, product = 0, 0\n",
    "    while num > 0:\n",
    "        digits += 1\n",
    "        num = num // 10\n",
    "    num = x\n",
    "    while num > 0:\n",
    "        product += (num % 10) ** digits\n",
    "        num = num // 10\n",
    "    return product == x"
   ]
  },
  {
   "cell_type": "code",
   "execution_count": 33,
   "id": "515e64a5",
   "metadata": {},
   "outputs": [
    {
     "data": {
      "text/plain": [
       "True"
      ]
     },
     "execution_count": 33,
     "metadata": {},
     "output_type": "execute_result"
    }
   ],
   "source": [
    "is_armstrong(9474)"
   ]
  },
  {
   "cell_type": "code",
   "execution_count": 34,
   "id": "cd603946",
   "metadata": {},
   "outputs": [
    {
     "data": {
      "text/plain": [
       "True"
      ]
     },
     "execution_count": 34,
     "metadata": {},
     "output_type": "execute_result"
    }
   ],
   "source": [
    "is_armstrong(371)"
   ]
  },
  {
   "cell_type": "code",
   "execution_count": 36,
   "id": "8a3c3764",
   "metadata": {},
   "outputs": [
    {
     "data": {
      "text/plain": [
       "False"
      ]
     },
     "execution_count": 36,
     "metadata": {},
     "output_type": "execute_result"
    }
   ],
   "source": [
    "is_armstrong(123)"
   ]
  },
  {
   "cell_type": "markdown",
   "id": "3260e5c8",
   "metadata": {},
   "source": [
    "Q5. Write a program to find product of digits of a given number."
   ]
  },
  {
   "cell_type": "code",
   "execution_count": 37,
   "id": "46f76548",
   "metadata": {},
   "outputs": [],
   "source": [
    "def product_digits(x):\n",
    "    res = 1\n",
    "    while x > 0:\n",
    "        res *= (x % 10)\n",
    "        x = x // 10\n",
    "    return res"
   ]
  },
  {
   "cell_type": "code",
   "execution_count": 38,
   "id": "55bfec11",
   "metadata": {},
   "outputs": [
    {
     "data": {
      "text/plain": [
       "120"
      ]
     },
     "execution_count": 38,
     "metadata": {},
     "output_type": "execute_result"
    }
   ],
   "source": [
    "product_digits(12345)"
   ]
  },
  {
   "cell_type": "markdown",
   "id": "7cc9ea30",
   "metadata": {},
   "source": [
    "Q6. Write a program to find sum of even digits and product of odd digits of a given number."
   ]
  },
  {
   "cell_type": "markdown",
   "id": "2eb98731",
   "metadata": {},
   "source": [
    "Q7. Write a program to reverse a given number."
   ]
  },
  {
   "cell_type": "markdown",
   "id": "ae3472ad",
   "metadata": {},
   "source": [
    "- In: 1234\n",
    "- Out: 4321"
   ]
  },
  {
   "cell_type": "code",
   "execution_count": 32,
   "id": "4d49308e",
   "metadata": {},
   "outputs": [],
   "source": [
    "def reverse_number(x):\n",
    "    res = 0\n",
    "    while x > 0:\n",
    "        res = (x % 10) + (res * 10)\n",
    "        x = x // 10\n",
    "    return res"
   ]
  },
  {
   "cell_type": "code",
   "execution_count": 33,
   "id": "e3cfb080",
   "metadata": {},
   "outputs": [
    {
     "data": {
      "text/plain": [
       "40321"
      ]
     },
     "execution_count": 33,
     "metadata": {},
     "output_type": "execute_result"
    }
   ],
   "source": [
    "reverse_number(12304)"
   ]
  },
  {
   "cell_type": "markdown",
   "id": "698eb980",
   "metadata": {},
   "source": [
    "Q8. Write a program to check whether a given number is a palindrome number or not?"
   ]
  },
  {
   "cell_type": "markdown",
   "id": "3b99e9db",
   "metadata": {},
   "source": [
    "- In: 1234\n",
    "- Out: False\n",
    "\n",
    "\n",
    "- In: 1221\n",
    "- Out: True"
   ]
  },
  {
   "cell_type": "code",
   "execution_count": 10,
   "id": "aa86e9e3",
   "metadata": {},
   "outputs": [],
   "source": [
    "def is_palindrome(x):\n",
    "    num = x\n",
    "    res = 0\n",
    "    while x > 0:\n",
    "        res = (x % 10) + (res * 10)\n",
    "        x = x // 10\n",
    "    return num == res"
   ]
  },
  {
   "cell_type": "code",
   "execution_count": 11,
   "id": "0d30fcbe",
   "metadata": {},
   "outputs": [
    {
     "data": {
      "text/plain": [
       "False"
      ]
     },
     "execution_count": 11,
     "metadata": {},
     "output_type": "execute_result"
    }
   ],
   "source": [
    "is_palindrome(1234)"
   ]
  },
  {
   "cell_type": "code",
   "execution_count": 12,
   "id": "6a661ebd",
   "metadata": {},
   "outputs": [
    {
     "data": {
      "text/plain": [
       "True"
      ]
     },
     "execution_count": 12,
     "metadata": {},
     "output_type": "execute_result"
    }
   ],
   "source": [
    "is_palindrome(1221)"
   ]
  },
  {
   "cell_type": "markdown",
   "id": "0b46bf2a",
   "metadata": {},
   "source": [
    "Q9. Write a program to print factors of a given number"
   ]
  },
  {
   "cell_type": "code",
   "execution_count": 20,
   "id": "d117bd81",
   "metadata": {},
   "outputs": [],
   "source": [
    "def print_factors(x):\n",
    "    for i in range(1, x+1):\n",
    "        if x % i == 0:\n",
    "            print(i, end=\" \")"
   ]
  },
  {
   "cell_type": "code",
   "execution_count": 21,
   "id": "037b0340",
   "metadata": {},
   "outputs": [
    {
     "name": "stdout",
     "output_type": "stream",
     "text": [
      "1 2 3 5 6 10 15 25 30 50 75 150 "
     ]
    }
   ],
   "source": [
    "print_factors(150)"
   ]
  },
  {
   "cell_type": "markdown",
   "id": "ca2c2fe0",
   "metadata": {},
   "source": [
    "Q10. Write a program to count total number of factors of a given number."
   ]
  },
  {
   "cell_type": "code",
   "execution_count": 16,
   "id": "b3447052",
   "metadata": {},
   "outputs": [],
   "source": [
    "def count_factors(x):\n",
    "    res = 0\n",
    "    for i in range(1, x+1):\n",
    "        if x % i == 0:\n",
    "            res += 1\n",
    "    return res"
   ]
  },
  {
   "cell_type": "code",
   "execution_count": 18,
   "id": "4382c293",
   "metadata": {},
   "outputs": [
    {
     "data": {
      "text/plain": [
       "12"
      ]
     },
     "execution_count": 18,
     "metadata": {},
     "output_type": "execute_result"
    }
   ],
   "source": [
    "count_factors(150)"
   ]
  },
  {
   "cell_type": "markdown",
   "id": "7ac063f0",
   "metadata": {},
   "source": [
    "Q11. Write a program to check given number is prime or not."
   ]
  },
  {
   "cell_type": "code",
   "execution_count": 62,
   "id": "d1eede3d",
   "metadata": {},
   "outputs": [],
   "source": [
    "def is_prime(x):\n",
    "    for i in range(2, x):\n",
    "        if x % i == 0:\n",
    "            return False\n",
    "    return True"
   ]
  },
  {
   "cell_type": "code",
   "execution_count": 65,
   "id": "3937e414",
   "metadata": {},
   "outputs": [
    {
     "data": {
      "text/plain": [
       "True"
      ]
     },
     "execution_count": 65,
     "metadata": {},
     "output_type": "execute_result"
    }
   ],
   "source": [
    "is_prime(37)"
   ]
  },
  {
   "cell_type": "code",
   "execution_count": 64,
   "id": "ae801629",
   "metadata": {},
   "outputs": [
    {
     "data": {
      "text/plain": [
       "False"
      ]
     },
     "execution_count": 64,
     "metadata": {},
     "output_type": "execute_result"
    }
   ],
   "source": [
    "is_prime(39)"
   ]
  },
  {
   "cell_type": "markdown",
   "id": "d88739ae",
   "metadata": {},
   "source": [
    "Q12. Write a program to print Fibonacci series using iterative method."
   ]
  },
  {
   "cell_type": "code",
   "execution_count": 100,
   "id": "c21dde2d",
   "metadata": {},
   "outputs": [],
   "source": [
    "def fibbonacci(x):\n",
    "    a, b = 0, 1\n",
    "    for i in range(x):\n",
    "        print(a, end = \" \")\n",
    "        temp = a\n",
    "        a = b\n",
    "        b = temp + a"
   ]
  },
  {
   "cell_type": "code",
   "execution_count": 101,
   "id": "2127ed15",
   "metadata": {},
   "outputs": [
    {
     "name": "stdout",
     "output_type": "stream",
     "text": [
      "0 1 1 2 3 5 8 13 21 34 "
     ]
    }
   ],
   "source": [
    "fibbonacci(10)"
   ]
  },
  {
   "cell_type": "code",
   "execution_count": 102,
   "id": "c564fb0f",
   "metadata": {},
   "outputs": [
    {
     "name": "stdout",
     "output_type": "stream",
     "text": [
      "0 1 1 2 3 5 8 13 21 34 55 89 144 233 377 "
     ]
    }
   ],
   "source": [
    "fibbonacci(15)"
   ]
  },
  {
   "cell_type": "code",
   "execution_count": 88,
   "id": "911acea2",
   "metadata": {},
   "outputs": [],
   "source": [
    "def fibonacci_number(x):\n",
    "    a, b = 0, 1\n",
    "    res = 0\n",
    "    for i in range(x):\n",
    "        a, b = b, res\n",
    "        res = a + b\n",
    "    return res"
   ]
  },
  {
   "cell_type": "code",
   "execution_count": 99,
   "id": "3cd923fc",
   "metadata": {},
   "outputs": [
    {
     "data": {
      "text/plain": [
       "21"
      ]
     },
     "execution_count": 99,
     "metadata": {},
     "output_type": "execute_result"
    }
   ],
   "source": [
    "fibonacci_number(8)"
   ]
  },
  {
   "cell_type": "markdown",
   "id": "48f26561",
   "metadata": {},
   "source": [
    "Q13. Write a program to print Fibonacci series using recursive method."
   ]
  },
  {
   "cell_type": "code",
   "execution_count": 119,
   "id": "4f890093",
   "metadata": {},
   "outputs": [],
   "source": [
    "def fib_rec(x):\n",
    "    memo = {}\n",
    "    if x == 0:\n",
    "        memo[0] = 0\n",
    "        return memo[0]\n",
    "    if x == 1:\n",
    "        memo[1] = 1\n",
    "        return memo[1]\n",
    "    if x in memo:\n",
    "        return memo[x]\n",
    "    else:\n",
    "        memo[x] = fib_rec(x-1) + fib_rec(x-2)\n",
    "        return memo[x]"
   ]
  },
  {
   "cell_type": "code",
   "execution_count": 122,
   "id": "c9eea670",
   "metadata": {},
   "outputs": [
    {
     "name": "stdout",
     "output_type": "stream",
     "text": [
      "0 1 1 2 3 5 8 13 21 34 55 "
     ]
    }
   ],
   "source": [
    "for i in range(11):\n",
    "    print(fib_rec(i), end = \" \")"
   ]
  },
  {
   "cell_type": "markdown",
   "id": "217887e3",
   "metadata": {},
   "source": [
    "Q14. Write a program to calculate factorial using iterative method."
   ]
  },
  {
   "cell_type": "code",
   "execution_count": 123,
   "id": "bc40ad4d",
   "metadata": {},
   "outputs": [],
   "source": [
    "def fact(x):\n",
    "    res = 1\n",
    "    for i in range(1, x+1):\n",
    "        res *= i\n",
    "    return res"
   ]
  },
  {
   "cell_type": "code",
   "execution_count": 124,
   "id": "91b8b2c8",
   "metadata": {},
   "outputs": [
    {
     "data": {
      "text/plain": [
       "120"
      ]
     },
     "execution_count": 124,
     "metadata": {},
     "output_type": "execute_result"
    }
   ],
   "source": [
    "fact(5)"
   ]
  },
  {
   "cell_type": "markdown",
   "id": "c6c9738e",
   "metadata": {},
   "source": [
    "Q15. Write a program to calculate factorial using recursive method."
   ]
  },
  {
   "cell_type": "code",
   "execution_count": 125,
   "id": "c856dc52",
   "metadata": {},
   "outputs": [],
   "source": [
    "def fact_rec(x):\n",
    "    if x == 1:\n",
    "        return 1\n",
    "    else:\n",
    "        return x * fact_rec(x-1)"
   ]
  },
  {
   "cell_type": "code",
   "execution_count": 126,
   "id": "9cf30832",
   "metadata": {},
   "outputs": [
    {
     "data": {
      "text/plain": [
       "120"
      ]
     },
     "execution_count": 126,
     "metadata": {},
     "output_type": "execute_result"
    }
   ],
   "source": [
    "fact_rec(5)"
   ]
  },
  {
   "cell_type": "markdown",
   "id": "ce68aa51",
   "metadata": {},
   "source": [
    "Q16. Write a program to find if given number is perfect or not."
   ]
  },
  {
   "cell_type": "code",
   "execution_count": 132,
   "id": "16d50b47",
   "metadata": {},
   "outputs": [],
   "source": [
    "def perfect(x):\n",
    "    summ = 0\n",
    "    for i in range(1, x):\n",
    "        if x % i == 0:\n",
    "            summ += i\n",
    "    return x == summ"
   ]
  },
  {
   "cell_type": "code",
   "execution_count": 133,
   "id": "f4f706cc",
   "metadata": {},
   "outputs": [
    {
     "data": {
      "text/plain": [
       "True"
      ]
     },
     "execution_count": 133,
     "metadata": {},
     "output_type": "execute_result"
    }
   ],
   "source": [
    "perfect(28)"
   ]
  },
  {
   "cell_type": "code",
   "execution_count": 134,
   "id": "775988bb",
   "metadata": {},
   "outputs": [
    {
     "data": {
      "text/plain": [
       "False"
      ]
     },
     "execution_count": 134,
     "metadata": {},
     "output_type": "execute_result"
    }
   ],
   "source": [
    "perfect(27)"
   ]
  },
  {
   "cell_type": "markdown",
   "id": "a87d3482",
   "metadata": {},
   "source": [
    "Q17. Write a program to print prime factors of a given integer."
   ]
  },
  {
   "cell_type": "code",
   "execution_count": 153,
   "id": "8393e153",
   "metadata": {},
   "outputs": [],
   "source": [
    "def is_prime(x):\n",
    "    for i in range(2,x):\n",
    "        if x % i == 0:\n",
    "            return False\n",
    "    return True\n",
    "\n",
    "def is_factor(i , x):\n",
    "    if x % i == 0:\n",
    "        return True\n",
    "    else:\n",
    "        return False\n",
    "\n",
    "def prime_factor(x):\n",
    "    i = 2\n",
    "    while i <= x:\n",
    "        if is_factor(i, x) and is_prime(i):\n",
    "            print(i, end=\" \")\n",
    "            x = x // i\n",
    "        else:\n",
    "            i += 1"
   ]
  },
  {
   "cell_type": "code",
   "execution_count": 155,
   "id": "409f204b",
   "metadata": {
    "scrolled": true
   },
   "outputs": [
    {
     "name": "stdout",
     "output_type": "stream",
     "text": [
      "2 3 3 13 149 "
     ]
    }
   ],
   "source": [
    "prime_factor(34866)"
   ]
  },
  {
   "cell_type": "code",
   "execution_count": 156,
   "id": "967176c1",
   "metadata": {},
   "outputs": [
    {
     "name": "stdout",
     "output_type": "stream",
     "text": [
      "2 2 2 "
     ]
    }
   ],
   "source": [
    "prime_factor(8)"
   ]
  },
  {
   "cell_type": "markdown",
   "id": "a16667c1",
   "metadata": {},
   "source": [
    "Q18. Write a program to calculate LCM of given two numbers."
   ]
  },
  {
   "cell_type": "code",
   "execution_count": 161,
   "id": "f848119a",
   "metadata": {},
   "outputs": [],
   "source": [
    "def lcm(a, b):\n",
    "    n1 = min(a, b)\n",
    "    n2 = max(a, b)\n",
    "    for i in range(1, n1):\n",
    "        if (n2 * i) % n1 == 0:\n",
    "            return n2 * i\n",
    "    return n2 * n1"
   ]
  },
  {
   "cell_type": "code",
   "execution_count": 162,
   "id": "8ea9a087",
   "metadata": {},
   "outputs": [
    {
     "data": {
      "text/plain": [
       "12"
      ]
     },
     "execution_count": 162,
     "metadata": {},
     "output_type": "execute_result"
    }
   ],
   "source": [
    "lcm(4,6)"
   ]
  },
  {
   "cell_type": "markdown",
   "id": "768ca1e6",
   "metadata": {},
   "source": [
    "Q19. Write a program to calculate GCD of given two numbers."
   ]
  },
  {
   "cell_type": "code",
   "execution_count": 164,
   "id": "01e0bd1c",
   "metadata": {},
   "outputs": [],
   "source": [
    "def gcd(a, b):\n",
    "    n1 = min(a, b)\n",
    "    for i in range(n1+1,0,-1):\n",
    "        if is_factor(i, a) and is_factor(i, b):\n",
    "            return i  "
   ]
  },
  {
   "cell_type": "code",
   "execution_count": 165,
   "id": "80f35ce8",
   "metadata": {},
   "outputs": [
    {
     "data": {
      "text/plain": [
       "4"
      ]
     },
     "execution_count": 165,
     "metadata": {},
     "output_type": "execute_result"
    }
   ],
   "source": [
    "gcd(8, 12)"
   ]
  },
  {
   "cell_type": "code",
   "execution_count": 166,
   "id": "2c817dd7",
   "metadata": {},
   "outputs": [
    {
     "data": {
      "text/plain": [
       "1"
      ]
     },
     "execution_count": 166,
     "metadata": {},
     "output_type": "execute_result"
    }
   ],
   "source": [
    "gcd(7, 13)"
   ]
  },
  {
   "cell_type": "markdown",
   "id": "2a902f9f",
   "metadata": {},
   "source": [
    "Q20. Write a program to convert decimal number into binary."
   ]
  },
  {
   "cell_type": "code",
   "execution_count": 4,
   "id": "e47a85c5",
   "metadata": {},
   "outputs": [
    {
     "name": "stdout",
     "output_type": "stream",
     "text": [
      "0b1111\n",
      "0b1011\n",
      "0b100010\n"
     ]
    }
   ],
   "source": [
    "print(bin(15))\n",
    "print(bin(11))\n",
    "print(bin(34))"
   ]
  },
  {
   "cell_type": "code",
   "execution_count": 50,
   "id": "634f19a2",
   "metadata": {},
   "outputs": [],
   "source": [
    "def decimal_to_binary(x):\n",
    "    res = 0\n",
    "    place = 1\n",
    "    while x > 0:\n",
    "        res = res + (x % 2) * place\n",
    "        place *= 10\n",
    "        x = x // 2\n",
    "    return res"
   ]
  },
  {
   "cell_type": "code",
   "execution_count": 51,
   "id": "e1f53be5",
   "metadata": {},
   "outputs": [
    {
     "data": {
      "text/plain": [
       "100010"
      ]
     },
     "execution_count": 51,
     "metadata": {},
     "output_type": "execute_result"
    }
   ],
   "source": [
    "decimal_to_binary(34)"
   ]
  },
  {
   "cell_type": "code",
   "execution_count": 55,
   "id": "3592935b",
   "metadata": {},
   "outputs": [
    {
     "data": {
      "text/plain": [
       "10000"
      ]
     },
     "execution_count": 55,
     "metadata": {},
     "output_type": "execute_result"
    }
   ],
   "source": [
    "decimal_to_binary(16)"
   ]
  },
  {
   "cell_type": "code",
   "execution_count": 53,
   "id": "57c8bf2c",
   "metadata": {},
   "outputs": [
    {
     "data": {
      "text/plain": [
       "1011"
      ]
     },
     "execution_count": 53,
     "metadata": {},
     "output_type": "execute_result"
    }
   ],
   "source": [
    "decimal_to_binary(11)"
   ]
  },
  {
   "cell_type": "markdown",
   "id": "bf521f91",
   "metadata": {},
   "source": [
    "Q21. Write a program to convert decimal number into octal."
   ]
  },
  {
   "cell_type": "code",
   "execution_count": 26,
   "id": "d6af9c4c",
   "metadata": {},
   "outputs": [
    {
     "name": "stdout",
     "output_type": "stream",
     "text": [
      "0o17\n",
      "0o157\n",
      "0o42\n"
     ]
    }
   ],
   "source": [
    "print(oct(15))\n",
    "print(oct(111))\n",
    "print(oct(34))"
   ]
  },
  {
   "cell_type": "code",
   "execution_count": 46,
   "id": "2e6ce79c",
   "metadata": {},
   "outputs": [],
   "source": [
    "def dec_to_octal(x):\n",
    "    res = 0\n",
    "    place = 1\n",
    "    while x > 0:\n",
    "        res = res + (x % 8) * place\n",
    "        place *= 10\n",
    "        x = x // 8\n",
    "    return res"
   ]
  },
  {
   "cell_type": "code",
   "execution_count": 47,
   "id": "ab7cfeef",
   "metadata": {},
   "outputs": [
    {
     "data": {
      "text/plain": [
       "17"
      ]
     },
     "execution_count": 47,
     "metadata": {},
     "output_type": "execute_result"
    }
   ],
   "source": [
    "dec_to_octal(15)"
   ]
  },
  {
   "cell_type": "code",
   "execution_count": 48,
   "id": "b90c8848",
   "metadata": {},
   "outputs": [
    {
     "data": {
      "text/plain": [
       "157"
      ]
     },
     "execution_count": 48,
     "metadata": {},
     "output_type": "execute_result"
    }
   ],
   "source": [
    "dec_to_octal(111)"
   ]
  },
  {
   "cell_type": "code",
   "execution_count": 49,
   "id": "be27ef73",
   "metadata": {},
   "outputs": [
    {
     "data": {
      "text/plain": [
       "42"
      ]
     },
     "execution_count": 49,
     "metadata": {},
     "output_type": "execute_result"
    }
   ],
   "source": [
    "dec_to_octal(34)\n"
   ]
  },
  {
   "cell_type": "markdown",
   "id": "74c974df",
   "metadata": {},
   "source": [
    " Q22. Write a program to convert binary number into decimal."
   ]
  },
  {
   "cell_type": "code",
   "execution_count": 56,
   "id": "d022908a",
   "metadata": {},
   "outputs": [],
   "source": [
    "def binary_to_decimal(x):\n",
    "    res, place = 0, 0\n",
    "    while x > 0:\n",
    "        res = res + ((x % 10) * (2 ** place))\n",
    "        place += 1\n",
    "        x = x // 10\n",
    "    return res"
   ]
  },
  {
   "cell_type": "code",
   "execution_count": 57,
   "id": "76910203",
   "metadata": {},
   "outputs": [
    {
     "data": {
      "text/plain": [
       "34"
      ]
     },
     "execution_count": 57,
     "metadata": {},
     "output_type": "execute_result"
    }
   ],
   "source": [
    "binary_to_decimal(100010)"
   ]
  }
 ],
 "metadata": {
  "kernelspec": {
   "display_name": "Python 3 (ipykernel)",
   "language": "python",
   "name": "python3"
  },
  "language_info": {
   "codemirror_mode": {
    "name": "ipython",
    "version": 3
   },
   "file_extension": ".py",
   "mimetype": "text/x-python",
   "name": "python",
   "nbconvert_exporter": "python",
   "pygments_lexer": "ipython3",
   "version": "3.9.7"
  }
 },
 "nbformat": 4,
 "nbformat_minor": 5
}
